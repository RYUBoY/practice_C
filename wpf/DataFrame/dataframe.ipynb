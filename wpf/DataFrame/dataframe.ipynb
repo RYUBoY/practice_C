{
 "cells": [
  {
   "cell_type": "code",
   "execution_count": 2,
   "metadata": {
    "dotnet_interactive": {
     "language": "csharp"
    },
    "polyglot_notebook": {
     "kernelName": "csharp"
    },
    "vscode": {
     "languageId": "polyglot-notebook"
    }
   },
   "outputs": [
    {
     "data": {
      "text/html": [
       "<div><div></div><div></div><div><strong>Installed Packages</strong><ul><li><span>Microsoft.Data.Analysis, 0.21.0</span></li></ul></div></div>"
      ]
     },
     "metadata": {},
     "output_type": "display_data"
    },
    {
     "data": {
      "text/plain": [
       "Loading extensions from `C:\\Users\\USER\\.nuget\\packages\\microsoft.data.analysis\\0.21.0\\interactive-extensions\\dotnet\\Microsoft.Data.Analysis.Interactive.dll`"
      ]
     },
     "metadata": {},
     "output_type": "display_data"
    }
   ],
   "source": [
    "#r \"nuget:Microsoft.Data.Analysis,0.21.0\""
   ]
  },
  {
   "cell_type": "code",
   "execution_count": 3,
   "metadata": {
    "dotnet_interactive": {
     "language": "csharp"
    },
    "polyglot_notebook": {
     "kernelName": "csharp"
    },
    "vscode": {
     "languageId": "polyglot-notebook"
    }
   },
   "outputs": [],
   "source": [
    "using Microsoft.Data.Analysis;"
   ]
  },
  {
   "cell_type": "code",
   "execution_count": 6,
   "metadata": {
    "dotnet_interactive": {
     "language": "csharp"
    },
    "polyglot_notebook": {
     "kernelName": "csharp"
    },
    "vscode": {
     "languageId": "polyglot-notebook"
    }
   },
   "outputs": [],
   "source": [
    "using System.IO;\n",
    "using System.Linq;\n",
    "\n",
    "// Define data path\n",
    "var dataPath = Path.GetFullPath(@\"prices.csv\");\n",
    "\n",
    "// Load the data into the data frame\n",
    "var dataFrame = DataFrame.LoadCsv(dataPath);"
   ]
  },
  {
   "cell_type": "code",
   "execution_count": 7,
   "metadata": {
    "dotnet_interactive": {
     "language": "csharp"
    },
    "polyglot_notebook": {
     "kernelName": "csharp"
    },
    "vscode": {
     "languageId": "polyglot-notebook"
    }
   },
   "outputs": [
    {
     "data": {
      "text/html": [
       "<table id=\"table_638579388041228600\"><thead><tr><th><i>index</i></th><th>Id</th><th>Size</th><th>HistoricalPrice</th><th>CurrentPrice</th></tr></thead><tbody><tr><td><i><div class=\"dni-plaintext\"><pre>0</pre></div></i></td><td><div class=\"dni-plaintext\"><pre>1</pre></div></td><td>600f</td><td><div class=\"dni-plaintext\"><pre>100000</pre></div></td><td><div class=\"dni-plaintext\"><pre>170000</pre></div></td></tr><tr><td><i><div class=\"dni-plaintext\"><pre>1</pre></div></i></td><td><div class=\"dni-plaintext\"><pre>2</pre></div></td><td>1000f</td><td><div class=\"dni-plaintext\"><pre>200000</pre></div></td><td><div class=\"dni-plaintext\"><pre>225000</pre></div></td></tr><tr><td><i><div class=\"dni-plaintext\"><pre>2</pre></div></i></td><td><div class=\"dni-plaintext\"><pre>3</pre></div></td><td>1000f</td><td><div class=\"dni-plaintext\"><pre>126000</pre></div></td><td><div class=\"dni-plaintext\"><pre>195000</pre></div></td></tr><tr><td><i><div class=\"dni-plaintext\"><pre>3</pre></div></i></td><td><div class=\"dni-plaintext\"><pre>4</pre></div></td><td>850f</td><td><div class=\"dni-plaintext\"><pre>150000</pre></div></td><td><div class=\"dni-plaintext\"><pre>205000</pre></div></td></tr><tr><td><i><div class=\"dni-plaintext\"><pre>4</pre></div></i></td><td><div class=\"dni-plaintext\"><pre>5</pre></div></td><td>900f</td><td><div class=\"dni-plaintext\"><pre>155000</pre></div></td><td><div class=\"dni-plaintext\"><pre>210000</pre></div></td></tr><tr><td><i><div class=\"dni-plaintext\"><pre>5</pre></div></i></td><td><div class=\"dni-plaintext\"><pre>6</pre></div></td><td>550f</td><td><div class=\"dni-plaintext\"><pre>99000</pre></div></td><td><div class=\"dni-plaintext\"><pre>180000</pre></div></td></tr></tbody></table><style>\r\n",
       ".dni-code-hint {\r\n",
       "    font-style: italic;\r\n",
       "    overflow: hidden;\r\n",
       "    white-space: nowrap;\r\n",
       "}\r\n",
       ".dni-treeview {\r\n",
       "    white-space: nowrap;\r\n",
       "}\r\n",
       ".dni-treeview td {\r\n",
       "    vertical-align: top;\r\n",
       "    text-align: start;\r\n",
       "}\r\n",
       "details.dni-treeview {\r\n",
       "    padding-left: 1em;\r\n",
       "}\r\n",
       "table td {\r\n",
       "    text-align: start;\r\n",
       "}\r\n",
       "table tr { \r\n",
       "    vertical-align: top; \r\n",
       "    margin: 0em 0px;\r\n",
       "}\r\n",
       "table tr td pre \r\n",
       "{ \r\n",
       "    vertical-align: top !important; \r\n",
       "    margin: 0em 0px !important;\r\n",
       "} \r\n",
       "table th {\r\n",
       "    text-align: start;\r\n",
       "}\r\n",
       "</style>"
      ]
     },
     "metadata": {},
     "output_type": "display_data"
    }
   ],
   "source": [
    "dataFrame"
   ]
  },
  {
   "cell_type": "code",
   "execution_count": 8,
   "metadata": {
    "dotnet_interactive": {
     "language": "csharp"
    },
    "polyglot_notebook": {
     "kernelName": "csharp"
    },
    "vscode": {
     "languageId": "polyglot-notebook"
    }
   },
   "outputs": [
    {
     "data": {
      "text/html": [
       "<table id=\"table_638579389104133581\"><thead><tr><th><i>index</i></th><th>Description</th><th>Id</th><th>HistoricalPrice</th><th>CurrentPrice</th></tr></thead><tbody><tr><td><i><div class=\"dni-plaintext\"><pre>0</pre></div></i></td><td>Length (excluding null values)</td><td><div class=\"dni-plaintext\"><pre>6</pre></div></td><td><div class=\"dni-plaintext\"><pre>6</pre></div></td><td><div class=\"dni-plaintext\"><pre>6</pre></div></td></tr><tr><td><i><div class=\"dni-plaintext\"><pre>1</pre></div></i></td><td>Max</td><td><div class=\"dni-plaintext\"><pre>6</pre></div></td><td><div class=\"dni-plaintext\"><pre>200000</pre></div></td><td><div class=\"dni-plaintext\"><pre>225000</pre></div></td></tr><tr><td><i><div class=\"dni-plaintext\"><pre>2</pre></div></i></td><td>Min</td><td><div class=\"dni-plaintext\"><pre>1</pre></div></td><td><div class=\"dni-plaintext\"><pre>99000</pre></div></td><td><div class=\"dni-plaintext\"><pre>170000</pre></div></td></tr><tr><td><i><div class=\"dni-plaintext\"><pre>3</pre></div></i></td><td>Mean</td><td><div class=\"dni-plaintext\"><pre>3.5</pre></div></td><td><div class=\"dni-plaintext\"><pre>138333.33</pre></div></td><td><div class=\"dni-plaintext\"><pre>197500</pre></div></td></tr></tbody></table><style>\r\n",
       ".dni-code-hint {\r\n",
       "    font-style: italic;\r\n",
       "    overflow: hidden;\r\n",
       "    white-space: nowrap;\r\n",
       "}\r\n",
       ".dni-treeview {\r\n",
       "    white-space: nowrap;\r\n",
       "}\r\n",
       ".dni-treeview td {\r\n",
       "    vertical-align: top;\r\n",
       "    text-align: start;\r\n",
       "}\r\n",
       "details.dni-treeview {\r\n",
       "    padding-left: 1em;\r\n",
       "}\r\n",
       "table td {\r\n",
       "    text-align: start;\r\n",
       "}\r\n",
       "table tr { \r\n",
       "    vertical-align: top; \r\n",
       "    margin: 0em 0px;\r\n",
       "}\r\n",
       "table tr td pre \r\n",
       "{ \r\n",
       "    vertical-align: top !important; \r\n",
       "    margin: 0em 0px !important;\r\n",
       "} \r\n",
       "table th {\r\n",
       "    text-align: start;\r\n",
       "}\r\n",
       "</style>"
      ]
     },
     "metadata": {},
     "output_type": "display_data"
    }
   ],
   "source": [
    "dataFrame.Description()"
   ]
  },
  {
   "cell_type": "code",
   "execution_count": 9,
   "metadata": {
    "dotnet_interactive": {
     "language": "csharp"
    },
    "polyglot_notebook": {
     "kernelName": "csharp"
    },
    "vscode": {
     "languageId": "polyglot-notebook"
    }
   },
   "outputs": [
    {
     "data": {
      "text/html": [
       "<table id=\"table_638579389693676080\"><thead><tr><th><i>index</i></th><th>Info</th><th>Id</th><th>Size</th><th>HistoricalPrice</th><th>CurrentPrice</th></tr></thead><tbody><tr><td><i><div class=\"dni-plaintext\"><pre>0</pre></div></i></td><td>DataType</td><td>System.Single</td><td>System.String</td><td>System.Single</td><td>System.Single</td></tr><tr><td><i><div class=\"dni-plaintext\"><pre>1</pre></div></i></td><td>Length (excluding null values)</td><td>6</td><td>6</td><td>6</td><td>6</td></tr></tbody></table><style>\r\n",
       ".dni-code-hint {\r\n",
       "    font-style: italic;\r\n",
       "    overflow: hidden;\r\n",
       "    white-space: nowrap;\r\n",
       "}\r\n",
       ".dni-treeview {\r\n",
       "    white-space: nowrap;\r\n",
       "}\r\n",
       ".dni-treeview td {\r\n",
       "    vertical-align: top;\r\n",
       "    text-align: start;\r\n",
       "}\r\n",
       "details.dni-treeview {\r\n",
       "    padding-left: 1em;\r\n",
       "}\r\n",
       "table td {\r\n",
       "    text-align: start;\r\n",
       "}\r\n",
       "table tr { \r\n",
       "    vertical-align: top; \r\n",
       "    margin: 0em 0px;\r\n",
       "}\r\n",
       "table tr td pre \r\n",
       "{ \r\n",
       "    vertical-align: top !important; \r\n",
       "    margin: 0em 0px !important;\r\n",
       "} \r\n",
       "table th {\r\n",
       "    text-align: start;\r\n",
       "}\r\n",
       "</style>"
      ]
     },
     "metadata": {},
     "output_type": "display_data"
    }
   ],
   "source": [
    "dataFrame.Info()"
   ]
  },
  {
   "cell_type": "code",
   "execution_count": 10,
   "metadata": {
    "dotnet_interactive": {
     "language": "csharp"
    },
    "polyglot_notebook": {
     "kernelName": "csharp"
    },
    "vscode": {
     "languageId": "polyglot-notebook"
    }
   },
   "outputs": [
    {
     "data": {
      "text/html": [
       "<div><div></div><div></div><div><strong>Installed Packages</strong><ul><li><span>ScottPlot, 5.0.36</span></li></ul></div></div>"
      ]
     },
     "metadata": {},
     "output_type": "display_data"
    },
    {
     "data": {
      "text/plain": [
       "Loading extensions from `C:\\Users\\USER\\.nuget\\packages\\skiasharp\\2.88.8\\interactive-extensions\\dotnet\\SkiaSharp.DotNet.Interactive.dll`"
      ]
     },
     "metadata": {},
     "output_type": "display_data"
    }
   ],
   "source": [
    "#r \"nuget:ScottPlot, 5.0.36\""
   ]
  },
  {
   "cell_type": "code",
   "execution_count": 11,
   "metadata": {
    "dotnet_interactive": {
     "language": "csharp"
    },
    "polyglot_notebook": {
     "kernelName": "csharp"
    },
    "vscode": {
     "languageId": "polyglot-notebook"
    }
   },
   "outputs": [],
   "source": [
    "using Microsoft.DotNet.Interactive.Formatting;\n",
    "Formatter.Register(typeof(ScottPlot.Plot), (p, w) => \n",
    "    w.Write(((ScottPlot.Plot)p).GetImageHtml(400, 300)), HtmlFormatter.MimeType);"
   ]
  },
  {
   "cell_type": "code",
   "execution_count": 12,
   "metadata": {
    "dotnet_interactive": {
     "language": "csharp"
    },
    "polyglot_notebook": {
     "kernelName": "csharp"
    },
    "vscode": {
     "languageId": "polyglot-notebook"
    }
   },
   "outputs": [],
   "source": [
    "using ScottPlot;\n",
    "using Microsoft.Data.Analysis;\n",
    "using System;\n",
    "using System.Linq;"
   ]
  },
  {
   "cell_type": "code",
   "execution_count": 23,
   "metadata": {
    "dotnet_interactive": {
     "language": "csharp"
    },
    "polyglot_notebook": {
     "kernelName": "csharp"
    },
    "vscode": {
     "languageId": "polyglot-notebook"
    }
   },
   "outputs": [
    {
     "data": {
      "text/html": [
       "<table id=\"table_638579397817841628\"><thead><tr><th><i>index</i></th><th>Temperature</th><th>Humidity</th></tr></thead><tbody><tr><td><i><div class=\"dni-plaintext\"><pre>0</pre></div></i></td><td><div class=\"dni-plaintext\"><pre>-2.6910459365188366</pre></div></td><td><div class=\"dni-plaintext\"><pre>-1.3975807001802982</pre></div></td></tr><tr><td><i><div class=\"dni-plaintext\"><pre>1</pre></div></i></td><td><div class=\"dni-plaintext\"><pre>-2.6421255761022335</pre></div></td><td><div class=\"dni-plaintext\"><pre>-0.9940295005189392</pre></div></td></tr><tr><td><i><div class=\"dni-plaintext\"><pre>2</pre></div></i></td><td><div class=\"dni-plaintext\"><pre>-2.495230895232052</pre></div></td><td><div class=\"dni-plaintext\"><pre>-0.7261439071624282</pre></div></td></tr><tr><td><i><div class=\"dni-plaintext\"><pre>3</pre></div></i></td><td><div class=\"dni-plaintext\"><pre>-2.2319877395555325</pre></div></td><td><div class=\"dni-plaintext\"><pre>-0.09691652566982278</pre></div></td></tr><tr><td><i><div class=\"dni-plaintext\"><pre>4</pre></div></i></td><td><div class=\"dni-plaintext\"><pre>-1.9451548536052718</pre></div></td><td><div class=\"dni-plaintext\"><pre>-0.05583022490880951</pre></div></td></tr><tr><td><i><div class=\"dni-plaintext\"><pre>5</pre></div></i></td><td><div class=\"dni-plaintext\"><pre>-1.53338472709683</pre></div></td><td><div class=\"dni-plaintext\"><pre>0</pre></div></td></tr><tr><td><i><div class=\"dni-plaintext\"><pre>6</pre></div></i></td><td><div class=\"dni-plaintext\"><pre>-1.0155790196804233</pre></div></td><td><div class=\"dni-plaintext\"><pre>0.4141950627855</pre></div></td></tr><tr><td><i><div class=\"dni-plaintext\"><pre>7</pre></div></i></td><td><div class=\"dni-plaintext\"><pre>-0.9930093819242946</pre></div></td><td><div class=\"dni-plaintext\"><pre>0.5180390023244724</pre></div></td></tr><tr><td><i><div class=\"dni-plaintext\"><pre>8</pre></div></i></td><td><div class=\"dni-plaintext\"><pre>-0.3408490532733729</pre></div></td><td><div class=\"dni-plaintext\"><pre>0.6577982006863681</pre></div></td></tr><tr><td><i><div class=\"dni-plaintext\"><pre>9</pre></div></i></td><td><div class=\"dni-plaintext\"><pre>0</pre></div></td><td><div class=\"dni-plaintext\"><pre>0.7565135079233503</pre></div></td></tr></tbody></table><style>\r\n",
       ".dni-code-hint {\r\n",
       "    font-style: italic;\r\n",
       "    overflow: hidden;\r\n",
       "    white-space: nowrap;\r\n",
       "}\r\n",
       ".dni-treeview {\r\n",
       "    white-space: nowrap;\r\n",
       "}\r\n",
       ".dni-treeview td {\r\n",
       "    vertical-align: top;\r\n",
       "    text-align: start;\r\n",
       "}\r\n",
       "details.dni-treeview {\r\n",
       "    padding-left: 1em;\r\n",
       "}\r\n",
       "table td {\r\n",
       "    text-align: start;\r\n",
       "}\r\n",
       "table tr { \r\n",
       "    vertical-align: top; \r\n",
       "    margin: 0em 0px;\r\n",
       "}\r\n",
       "table tr td pre \r\n",
       "{ \r\n",
       "    vertical-align: top !important; \r\n",
       "    margin: 0em 0px !important;\r\n",
       "} \r\n",
       "table th {\r\n",
       "    text-align: start;\r\n",
       "}\r\n",
       "</style>"
      ]
     },
     "metadata": {},
     "output_type": "display_data"
    }
   ],
   "source": [
    "ScottPlot.RandomDataGenerator generator = new ScottPlot.RandomDataGenerator();\n",
    "double[] tempData = generator.RandomWalk(10);\n",
    "double[] humidData = generator.RandomWalk(10);\n",
    "// double[] tempData = Generate.Random(10, 100);\n",
    "// double[] humidData = Generate.Random(10, 100);\n",
    "\n",
    "Array.Sort(tempData);\n",
    "Array.Sort(humidData);\n",
    "\n",
    "DoubleDataFrameColumn colTemp = new DoubleDataFrameColumn(\"Temperature\", tempData);\n",
    "DoubleDataFrameColumn colHumid = new DoubleDataFrameColumn(\"Humidity\", humidData);\n",
    "DataFrameColumn[] columns = { colTemp, colHumid };\n",
    "DataFrame df = new DataFrame(columns);\n",
    "\n",
    "// extract data into double arrays\n",
    "// double[] xs = Enumerable.Range(0, (int)df.Rows.Count).Select(row => Convert.ToDouble(df[\"Temperature\"][row])).ToArray();\n",
    "// double[] ys = Enumerable.Range(0, (int)df.Rows.Count).Select(row => Convert.ToDouble(df[\"Humidity\"][row])).ToArray();\n",
    "double[] xs = df[\"Temperature\"].Cast<double>().ToArray();\n",
    "double[] ys = df[\"Humidity\"].Cast<double>().ToArray();\n",
    "\n",
    "double[] dataX = { 1, 2, 3, 4, 5 };\n",
    "double[] dataY = { 1, 4, 9, 16, 25 };\n",
    "\n",
    "ScottPlot.Plot myPlot = new();\n",
    "myPlot.Add.Scatter(xs, ys);\n",
    "\n",
    "// myPlot.SavePng(\"quickstart.png\", 400, 300); // 이미지로 저장\n",
    "df"
   ]
  },
  {
   "cell_type": "code",
   "execution_count": 24,
   "metadata": {
    "dotnet_interactive": {
     "language": "csharp"
    },
    "polyglot_notebook": {
     "kernelName": "csharp"
    },
    "vscode": {
     "languageId": "polyglot-notebook"
    }
   },
   "outputs": [
    {
     "data": {
      "text/html": [
       "<img src=\"data:image/png;base64,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\"></img>"
      ]
     },
     "metadata": {},
     "output_type": "display_data"
    }
   ],
   "source": [
    "myPlot"
   ]
  },
  {
   "cell_type": "code",
   "execution_count": 22,
   "metadata": {
    "dotnet_interactive": {
     "language": "csharp"
    },
    "polyglot_notebook": {
     "kernelName": "csharp"
    },
    "vscode": {
     "languageId": "polyglot-notebook"
    }
   },
   "outputs": [
    {
     "data": {
      "text/html": [
       "<img src=\"data:image/png;base64,iVBORw0KGgoAAAANSUhEUgAAAZAAAAEsCAYAAADtt+XCAAAABHNCSVQICAgIfAhkiAAAH4FJREFUeJzt3Xt0VOWh/vFngyAXuZNIwlVAFJgQBEw5AgImopAQe6FLMTkeSw/+2qqTngq9WARBbG3JsiZWzznQSq2ktqfWSgiKmEEQUYyAQCYolwAayCQZQOQiguD+/YFMuSRAZiZ598x8P2uxFjOTTJ61CXnyvu9+97Zs27YFAEA9NTEdAAAQmSgQAEBQKBAAQFAoEABAUCgQAEBQKBAAQFAoEABAUCgQAEBQKBAAQFAoEABAUCgQAEBQKBAAQFAoEABAUCgQAEBQrjAdwLIs0xEAIKYFe1cP4wUiBR9eknw+nxISEsKYJrzIFxryhYZ8oYmFfKH8Es8UFgAgKBQIACAoFAgAICgUCAAgKBQIACAoRguEU3gBIHIZLZBQTt8FAJjFFBYAICgUCAAgKPUukNzcXFmWJcuylJOTE3je7/cHnrcsSxkZGWENCgBwlnoXSEJCgmzbDqxfeDyewGvp6emB14qKisKXEgDgOPUukKysrMDfU1JSVFVVJUmqrq5Wnz59wpcMAOBoIa2B+Hw+denSJfA4Pz8/MIXl9XpDDgcAqN1Txdt0/z+26a75a/VU8TYjGYK+Gq/H41FFRYWmTZsmSXK5XOdMayUlJXGaLgA0gLU79+up4u1fPzqitTv3a3jvThreu1Oj5giqQHJzcyVJeXl5tb6empoqt9str9crl8t1wevnbyD0+XzBxJB0eurMycgXGvKFhnyhcWq+NzZd+DPzjU0fq2fLE42ao94FkpOTo8zMTKWmpgb9Rc8emViWFfL17J18vX6JfKEiX2jIFxon5uvf46T0nu+85+IaPWu91kC8Xq+6d+9+yfLweDwqLy+vdfQBAAhNmyubqWPr5oHHw3t31KSh3Rs9R71GINXV1Zo+fbqmT58eeC49PV1FRUUqKChQdnZ24HnWPwAg/FZtrdFfSj7RhkduNX7HxHqNQFJTUwP7PM7f75GVlXXO8wCA8Hpv1349u7Jcz09JMR1FkkPuiQ4AuLjNew7q8aUfqvCBkaajBHAtLABwuO3Vh/XQ/21yVHlIjEAAwNEqDnyuKc+/r9U/vcV0lAswAgEAh/IfPq5vP/uOI8tDMjwC4Y6EAFC7I8dPamzuSnln32Y6Sp2MFoht25QIAJzn5KmvNHj2cu341QTTUS6KKSwAcJj+M5fpw8duNx3jkigQAHCQQY++rvWP3KpmTZ3/49n5CQEgRqQ8Xqzin4xW2xbNTEe5LBQIADjAzb99Uy/94CbFt21hOsplo0AAwLDbfveWFtwzTD06tTIdpV4oEAAw6JvPrNFvJg3SdV3amI5SbxQIABhy1/x39fPx12tw9/amowSFAgEAA+5dWKIfjO7T6LehDSejBcImQgCx6IeL1uvOYd015rp401FCYrRAuG8IgFjzk79t1K0Drtb4JOfdKre+mMICgEby8MulGtaro749pJvpKGFBgQBAI5hTtEV946/S3d/oYTpK2FAgANDA5r2+VZ1aN9eUkdeYjhJWFAgANKCnV2xXE0u6f2xf01HCjgIBgAbyh9U79dmxL/XQuOtMR2kQFAgANICCtR9r176jmpE+wHSUBkOBAECY/WPDHm345FM9/q0k01EaFLe0BYAwWrrZpxUf1uiZrCGmozQ4NhICQJis+KhG/9iwJybKQzI8AgGAaPFu+T4tWL1TL04dbjpKo2ENBABC9MEnn+q3r2+NqfKQKBAACMmHvkN6+OVS/fNHI0xHaXRMYQFAkHbvO6ofLlqvldPHmo5iBAUCAEGoPvSF7pz/rt57OM10FGMoEACop88+/1LjfveWNs0aZzqKURQIANTD8ZOnlPKrYm2dO950FOPYSAgA9dD/kWXa8fgE0zEcgY2EAHCZBsxcJu/s29SkCb/8SpzGCwCXZehjb2j1T8eqVXNm/s+gQADgEkb+ZoUWPzBCna660nQUR6l3geTm5sqyLFmWpZycnDpf83g8YQsJAKakPblKf/rejerWoZXpKI5T7wJJSEiQbduB9YszReHxeFRRUSHbtlVTU6O0tNg9NxpAdLj3xY/01J2D1Te+jekojlTvAsnKygr8PSUlRVVVVZKkwsJCTZ06VZIUFxcnt9vNKARAxPru/7yj/xrdTa6u7UxHcayQ1kB8Pp+6dOkiScrPz5fL5Qq8dna5AEAkueeP7+nBW65VcuJVpqM4WtAFcmbKKjU1NZx5AMCo+/68Ttn/1lM394szHcXxgjofLTc3V5KUl5cX1Bc9fwOhz+cL6n0kqbq6OujPbQzkCw35QkO++pm1bJdGXNNOSR1s+Xw+x+U7n+l89S6QnJwcZWZmXjDySE9Pl9frDUxjlZSUBNZEznf2BkLLspSQkFDfGOcI9fMbGvlCQ77QkO/y/Owfm5Xq6qY7b+xxzvNOyVcXk/nqNYXl9XrVvXv3WqetJk+erGXLlkmS/H6/ysvLz1kTAQCnerSwTP0T2l5QHri4ehVIdXW1pk+fHtjrYVmWMjIyJJ0+O6uiokKWZSk+Pl4LFy5skMAAEE5PvPahurRroXtv6mU6SsSpV4GkpqYG9oCc+VNUVBR4PS8vL/B8XBwLUACc7anibWrRrKl+MLqP6SgRiUuZAIhJ/7uqXMdOnNKP0/qZjhKxKBAAMef5d3ar8uAx/WJCf9NRIhqXlQQQU/7v/QqVVR7SbycNMh0l4lEgAGLGkk2VWr1jn56efIPpKFGBKSwAMeGNLdUq3FhJeYQRt7QFEPVWb/frz+/u1gvf/4bpKFGFW9oCiGrrdh9QXvF2yqMBsAYCIGqV7f1MswrLtNQ9ynSUqESBAIhK5TVH5P7rRnkeGm06StRiER1A1Nl78Jjuea6E8mhgjEAARJUDR09o4tNva8Mjt5qOEvUoEABR49iJUxrxxAp9+NjtpqPEBAoEQFSwbVsDZi3Trl+nm44SM1gDARAVrn9kmT6aw8ijMRktEDYSAgiHwXOW672HU3Vls6amo8QUNhICiGjDf+XRspyb1b5Vc9NRYg5TWAAi1tjclXrxvuHq0q6F6SgxiQIBEJEm5K3WM1lDdE3n1qajxCwKBEDE+fazazT3my4NSGhrOkpMo0AARJS7F6zVtHHXaUjPDqajxDwKBEDE+P6f3tf3R16jm/p2Nh0FokAARIgH/rJB3xrSVan9rzYdBV+jQAA43rS/b9KY6+KVMSjRdBSchY2EABxtxiteDe7eXpOGdjMdBedhIyEAx3p86Rb17NhK2cN7mo6CWjCFBcCRnly+VW1aNNPUm3ubjoI6UCAAHOfZN3fo5Fe23KnXmo6Ci6BAADjKc2t2ad+R4/rp7debjoJLoEAAOMaLJZ9oe/VhzZw40HQUXAZuKAXAEf75wV6V7Dqg39052HQUXCYKBIARy8uqtHj9x2rZskY9OrbUFt9h/U/2UNOxUA8UCIBGt3bnft33wvpznnvVPdJQGgSLjYQAGt3anfsveG75lmoDSRAKNhICaHRtWzS74LluHVoaSIJQcBYWgEb35kfVatvyXzPo3Tq01LgBXQwmQjBYAwHQaPyHjys9f7V+851BGtqzg1Z7d6lTp04a3ruT6WgIQtAjEMuy5PF4Ao/9fr8sywr8ycjICEtAANFh1dYaTchbraIHR2rs9fFq27KZhnRrQ3lEsHoXSG5urizLktvtvuC19PR02bYt27ZVVFQUloAAIt+zb+7Qc2t26/0ZaYpv28J0HIRJvQtk2rRptS5+V1dXq0+fPmEJBSB63F+wQUeOn9TzU1JMR0GYhXURPT8/PzCF5fV6w/nWACLM0eMnNWbem5qQlMB1raJU2BbRXS5XYGTi8XiUlJTEabpAjCrZdUDfW1iipe5R6tW5tek4aCANchZWamqq3G63vF6vXC5XQ3wJAA61cM0uvVZapbI5t5uOggZm5DTe83eg+3y+oN+rutrZu1fJFxryhaax881942O1bt5EeXf0uqz/1xy/0JjO1yAF4vF4VF5eXufo4+ypLcuylJCQENLXC/XzGxr5QkO+0DRGPtu2lZ7/tqaM7KVJQ7vX63M5fqExmS9sBVJQUKDs7OzAY9Y/gNjg3fuZJv7+bS11j9KAhLam46ARBV0geXl55zzOyspSVlZWyIEARI6/vf+JXlj7sXb9Ot10FBjApUwABGXmYq+On/xKRQ+OMh0FhnAxRQD19p3/fkd946/Sb74zyHQUGMQIBMBlK/cfUXr+ahX853AN7dnBdBwYRoEAuCxLNlXqqeJt2jhznFo0a2o6DhyAAgFwSb9+9UNVfvaFPA+NMR0FDsItbQFcVPYf3lPH1s319OQbTEeBwxgdgdi2TYkADlV58JjS81fr6clDNPLazqbjwIGYwgJwgTe2VGvWYq9WPDRGHVo3Nx0HDkWBADjHU8XbVLb3kN75RarpKHA49oEACLjvz+skSQv+Y5jhJIgEFAgAHfz8hEY8sUKThnXTj9P6mY6DCMEUFhDj1uzYp/v/skFL3aPUtX1L03EQQSgQIIbNf2unVm2r0caZ40xHQQRiCguIUTl//UD7jhxXwX8ONx0FEYqNhECMOX7ylNKeXKVbro/XwxP6m46DCMZGQiCGfPDJp7pr/lotdY9U3/g2puMgwrEGAsSIRWs/1j827NHWueNNR0GUoECAGPCLlzeraZMm+uePRpiOgijCIjoQ5TJ//7YGdWuvud90mY6CKMMIBIhSH/oOKSN/g/55/wgN6tbedBxEIQoEiEIvrd+jP67eqVUP3KBuXSkPNAwKBIgyc5aU6dAXJ/Xaj2+Wz+czHQdRjDUQIIrc+b/vqlvHVsr9brLpKIgBRkcg7AEBwuPj/UeVnv+2/njvMH3jmk6m4yBGsJEQiHCvlvr0m2Ufae3DqbrqSmal0Xj4bgMi2LzXt2rXviNaNX2s6SiIQayBABHq3oUlatW8qZ7NGmo6CmIUIxAgwvgPf6EJ+W9r3qRBGnNdvOk4iGEUCBBBVm6t0fSXNutV90jFtWlhOg5iHAUCRIhn3tyh93cf0Pu/TDMdBZDEGggQEX5UsF6fnzilP30vxXQUIIACARzsyPGTGj3vTWUMStT0264zHQc4B1NYgEO9t2u/vv+ndVrqHqmenVqbjgNcgJ3ogAM9t2aXXvdWyTv7NtNRgDqxEx1wmGl/36S2La7Q3/7fv5mOAlwUayCAQ5z6ytb4p97S8N6dNHPiQNNxgEsKukAsy5LH4znnudzcXFmWVetrAOq2ec9B9Zvxmp68c7AmDe1mOg5wWepdIGdKwu12n/O8x+NRRUWFbNtWTU2N0tI4Vx24HC+WfKIZr3hV/qsJ6p/Q1nQc4LLVu0CmTZsm27YveL6wsFBTp06VJMXFxcntdjMKAS5hxitebd5zUIUPjDQdBai3sK2B5Ofny+VyBR6npKSoqqoqXG8PRJ1vPbtG13dpo19/e5DpKEBQ2AcCNLIdNYeVnv+2/nrfcN3Qo4PpOEDQKBCgES3euFdPr9ihzY+O05VXNDUdBwhJ2AokPT1dXq83MI1VUlISWBM53/l7P3w+X9Bft7q6OujPbQzkC0005fv96j3yH/1SL0zupwP+mgZM9S/RdPxMIN/Fha1AJk+erGXLlsnlcsnv96u8vPycNZGznb0Ib1mWEhISQvraoX5+QyNfaKIhX9Yf1mp0v3g9fnPvRkh0rmg4fiaRr25hK5CsrCzl5OQERhc1NY3zGxbgZHsPHlN6/mo9c/cQjejb2XQcIKyCLpC8vLxan6vteSAWLd9SpdmFW7Ry2hi1b9XcdBwg7FhEBxrAU8XbtKXykNb8/BbTUYAGw7WwgDCb+vw6SdL8e4YZTgI0LEYgQJh8evSE0vNXa/YdLt064GrTcYAGR4EAQZr29016af0eSdLtA7vovV37tdQ9SontWxpOBjQOCgQIwkvrKwLlIUnLyqo0/9+HUh6IKUbXQLiZFCLVnk+PXfDcFt8hA0kAc4wWSG1X9QWc7vjJU3q3fP8Fzw/v3clAGsAczsIC6mHBWzs16NHl+tYNXTVlRC9ddWVTtW1xhaaM6EWBIOawBgJchhUf1WjmYq/Gu7po69zxgeenDuvo+EtdAA2FAgEuYve+o5pVWKamTSz99b7h6tahlelIgGNQIEAd5iwp04qPajQ7c6BGXxdvOg7gOKyBAOcpWPux+jz8qrp1bKWV08dSHkAdGIEAX1u7c79mLvbqxl4dtW3ueDVtwmnmwMVQIIh5NYe+0MzCMh38/Ev9/u4h6nd1G9ORgIhgtEDYSAjT5r2+VX9fV6E5dwzU7S7OpgLqg42EiEkvb9ijpFmvq1Xzpir5ZRrlAQSBKSzElI0VBzVrsVd94q7SO7+4RW1aNDMdCYhYFAhiwuEvvtSsxWXaue+o5tzhUnL39qYjARGP03gR9Z55c4du+vUKjby2s165fwTlAYQJIxBErddKfZpVWKbvDuuu0tm3mY4DRB0KBFFnW/VhzVxcpg6tmqnowZGKb9vCdCQgKlEgiBqnvrI1c7FX7+8+oDl3uLg6LtDAWANBVHju7V3qN+M1DUhoq+X/NZryABoBGwkR0VZtrdHMwjKl9r9a5b+aYDoOEFOMFoht25QIgrLn0881c3GZTn1l689TUtSzU2vTkYCYwxoIIs7jS7foNW+V5tzh0i3Xc6VcwBTWQBAxXiz5RP1++Zri27TQ2z+7hfIADGMEAscr2XVAsxZ7NbhHe3ln36bmV/B7D+AEFAgca9+R45rx6i4d/tLSk3cOVv+EtqYjATgLBQJHenL5Vv2l5BP9eFRXZY8eYDoOgFowFwBHWbxxr5JnL9cVTZto3Yxbldqvg+lIAOrACASO4N37mWYu9qp7x1Z6a/pYtWvFZdYBp6NAYNTnJ05q5uIyfVR1SHMyXRrSkxEHECmMTmGxiTC2/ffKcg2bW6zhvTuq6MFRlAcQYdiJjka3fEuVZi0u0zcHd9WWObebjgMgSExhodGU1xzRrMIytWreVC//6CYltGtpOhKAEIRtCsvv98uyrMCfjIyMcL01osDMxV7d98J6/WB0H82/ZxjlAUSBsK6BpKeny7Zt2batoqKicL41ItTz7+xWr58vVd/4q+R5aLRGXtvZdCQAYRK2Kazq6mr16dMnXG+HCLd6u1+PFpZpZN/O2v1Euuk4ABpAWEcg+fn5gSksr9cbzrdGhKg8eExTn1+n+W/t1Px7hmn2HS7TkQA0kLCNQFwul2zbliR5PB4lJSUFHiM2PPHahyrcWKnZd7h064CrTccB0MAaZB9Iamqq3G43o5AY8fd1Fer/yDK1b9Vc7/wilfIAYoSR03jP3/vh8/mCfq/q6upQ4zSoaM5XWnlEuSsr1C+ulV6dmqQWzZqE9G9Zm2g+fo2BfKEh38U1SIF4PB6Vl5fL5ap9/vvsqS3LspSQkBDS1wv18xtatOU7+PkJzVxcpr0Hj+l3dw3VwK7tGijZadF2/Bob+UJDvrqFrUAKCgqUnZ0deMz6R3TK82zXwjW7NCdzoDIHdzUdB4BBYVsDycrKCuwBoTyiz5JNlRry2Bv66itbG2eOozwAcCkTXNwW3yHNWuxVl7YtVPyT0erYurnpSAAcggJBrY6fPKVZi8u0ec9nmn3HQN3Yq6PpSAAchjsS4gLz39qpQY8u1+Du7fVqzijKA0CtGIHEsOfe3qWijZ+oefOPNWVELzVtYmlWYZkmJCVo69zxpuMBcDgKJEYtL6vSnKItXz86orU79+sbvTrqr/cNV7cOrYxmAxAZuCNhjNriO3TBc7e5ulAeAC4bdySMMau21qhwU6Ve2bj3gte6deAeHQAuH1NYMeC9XftVuLFSSzZV6oYeHZQ5OFEPT+ivf/9jSWAkMrx3R40b2MVwUgCRhAKJUpv3HFThpkoVbqzUNZ1bKzM5UT8bf73atmgW+JhXc0Zpw9bd6tujq9q2bHaRdwOAC1EgUWR79eHTpbGpUu1aNlNmcqKKHhyp+LYt6vychLZXUh4AgkKBRLg9n36uwo2nS+PUV7YyByfqz1NS1LNTa9PRAEQ5CiQC7TtyXIWbKrVkY6X8R44rMzlRT901WNd3aWs6GoAYQoFEiKPHT54ujU2V2lZ9WJnJiZo5cYBu6NHBdDQAMYoCcbCvvrIDpbF2535lDk7UA2P76qa+nU1HAwCzBcIekNq97q3Sks2VerXUp8zkRN39jR764703mo4FAOdgI6FDrNrm15KvRxtjrovXxOQE/f7uIaZjAUCdmMIyqGTXAS35+rTbwd3ba2Jygh7/lktXXtHUdDQAuCQKpJGV7vlMSzaf3uDXo2MrTUxO0FvTx6pdK/ZiAIgsFEgj2FFzWEs2+VS4qVJXXXmFJiYn6pX7R6hLu7o3+AGA01EgDWTPp59rySafXl73sewmTTUxOVHP3XujrunMBj8A0YECCaMDR098ff2pvao5fFwTByXqkXE9dfOgPqajAUDYUSAhOnbilAo37VXhpkp96Du9wW9G+gAN6Xl6g5/P5zOcEAAaBgUSpMKNp0tjzY7TG/x+NKavRrDBD0AMoUDqYfmWKi3ZWKklm09v8LsrpYf+8B9s8AMQm9iJfgmrt/sDlxO5+do4TUxO1NNs8AMAdqLXZt3uA4HScHVtp8zkRD12h0stmrHBDwDOYArra2V7PwuURmL7lsocnKgVD41Rh9bNTUcDAEeK6QIp9x8JXH+qRbOmykxO1Es/vEmJ7VuajgYAjhdzBVJ58FhgpPHFl6c0MTlR8+8Zpj5xV5mOBgARJSYK5NOjJwLXn6o8eEyZgxP12+8M0sCu7UxHA4CIFbUF8sWXpwJXuvXu/UwTkxP18/HXa1ivjqajAUBUiNgCOXTsS933wnqt3blfkjRpaDflfjc5sKbx1na/JiYn6r6be2vUtXGG0wJA9InYAnlp/Z5AeZx5/NL6PZo4KEGThnXT/HuGGUwHANEvYjcSHvriywuem5kxQFNGXhNKJADAZWpi8ovbth3053brcOGptsN7s74BAI0lYqewJg3trj2fHtPSjXvUrFkzjRt4tQYkclYVADSWiC0QSfpxWj/dObCNEhISTEcBgJgT1ims3NxcWZYly7Lk8XjC+dYAAIcJ2wjE4/GooqJCtm3L7/crPj4+pDUOAICzhW0EUlhYqKlTp0qS4uLi5Ha7GYUAQBQLW4Hk5+fL5XIFHqekpKiqqipcbw8AcBijp/ECACKXkbOwzt9A6PP5gn6v6urqUOM0KPKFhnyhIV9oyHdxYSuQ9PR0eb3ewDRWSUlJYE3kfGcvrluWFfJpuE4/jZd8oSFfaMgXGvLVLWxTWJMnT9ayZcskSX6/X+Xl5eesiQAAokvYRiBZWVnKyckJTE/V1NSE660BAA4U1kX0vLw82bYt27YVF8cl1AEgmnEWFgAgKBQIACAoFAgAICiOuBpvKDeWAgCY4YgCudhFFy3L4nVe53Ve5/UGeP3MxwTLsiP8krmXc4BMIl9oyBca8oWGfBfHGggAICgRPwIBAJjBCAQAEBQKBAAQFAoEABCUiC8Qr9cry7Lk9/tNR5Ek5eTkKDc3t9bXPB6PLMsK/Knr4xpLRkZGIEtBQYHRLOcfm8v5GNPH7+wspm/fXFBQEMiSkZFR68c47fidUVBQoJycHNMxAizLktfrveB5px2/s///mvoZGNEFkpGRoQULFpiOIelf31yXMm/evMAFJ6dNm9YIyWrn9Xr1xBNPBLJkZ2cbLeGqqqpAlkWLFtX5n9Mpx8/v96umpka2bau0tFRpaWnGskhScnJy4Lj06dOnzl8InHL8zpadnW06QsClfpFy2vE78z1o6gK2EV0gRUVFysvLMx1DkpSamirbtpWSklLnx1RVVTnm5jQul+uc+7W43W6jdzfLysoK/D05OVkVFRUXfIyTjl9cXFzgP6wT7ntzdoa6vgeddPzOyM3N1aJFi0zHkHT6l4KSkhK53e5aX3fa8Vu6dKnxq55HdIFEouzs7ItO05hSXl6uq6++2nQMSadv09m9e/daX3Pi8fN4PHX+0DHhxRdfVHJycq2vOen4nZkmqitrY5s7d65mzJhx0Y9x0vGTZHwKmgJpRFlZWYHh5rx58xwz75ubm6vJkycb/21GOv1bYFpaWq3TA047frm5ubIsSx988IHxkbDf7w/8MFm4cGGtoyKnHb+kpCRHTANJp6euUlJSLvp/wGnH70yWmpoaZWdn17pu0xghIp4ku6amxnQM27Zte9GiRfa8efMu62OdcPjT09Pt4uJi0zFs27bt4uJiOz09/bI/3gnHz7ZP53bS92B6evplfQ+aPH5ut9suLS21bdu2S0tLbbfbbSzL+V//7GwX45TvP9s+/XNn0aJFjf51GYHEsDO/raamppqOooKCAn3wwQcqKioyHaXeUlNTNW/ePG3evNl0FEnSwoULtXLlStMx6uT1epWfn6+kpCRZlqWkpCTl5+fXefZYQ1uwYIHy8/MDI7gz2UyfWRcJKJAGVlBQUOsZRbm5uZo3b56BRKcVFBSouLjYEdNW0ul5+9qmM5x6/M7/4TJ9+nQNGjTIUJpz8yxfvlxjxoyR5Mzj53K5AtMv9tdnsbndbmO/PJx9K27btuV2u1VaWqrU1FRHHr/z+f1+ZWdna9y4cY3+tSmQRpSTkxP4LaeiosLo/K/P51NaWpojzmv3+/1aunTpOVlqO6/dScevqqrqnKylpaVGy/jsf8uSkpJaj42Tjl8kctLxO7P/zbIsxcfHG/v+42KKAICgMAIBAASFAgEABIUCAQAEhQIBAASFAgEABIUCAQAEhQIBAASFAgEABIUCAQAEhQIBAASFAgEABIUCAQAE5f8DZJIAbBzawrkAAAAASUVORK5CYII=\"></img>"
      ]
     },
     "metadata": {},
     "output_type": "display_data"
    }
   ],
   "source": [
    "double[] dataX = { 1, 2, 3, 4, 5 };\n",
    "double[] dataY = { 1, 4, 9, 16, 25 };\n",
    "\n",
    "ScottPlot.Plot n_myPlot = new();\n",
    "n_myPlot.Add.Scatter(dataX, dataY);\n",
    "n_myPlot"
   ]
  }
 ],
 "metadata": {
  "kernelspec": {
   "display_name": ".NET (C#)",
   "language": "C#",
   "name": ".net-csharp"
  },
  "language_info": {
   "name": "python"
  },
  "polyglot_notebook": {
   "kernelInfo": {
    "defaultKernelName": "csharp",
    "items": [
     {
      "aliases": [],
      "name": "csharp"
     }
    ]
   }
  }
 },
 "nbformat": 4,
 "nbformat_minor": 2
}
