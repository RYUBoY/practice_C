{
 "cells": [
  {
   "cell_type": "code",
   "execution_count": 41,
   "metadata": {
    "dotnet_interactive": {
     "language": "csharp"
    },
    "polyglot_notebook": {
     "kernelName": "csharp"
    },
    "vscode": {
     "languageId": "polyglot-notebook"
    }
   },
   "outputs": [
    {
     "data": {
      "text/html": [
       "<div><div></div><div></div><div><strong>Installed Packages</strong><ul><li><span>Microsoft.Data.Analysis, 0.21.0</span></li></ul></div></div>"
      ]
     },
     "metadata": {},
     "output_type": "display_data"
    }
   ],
   "source": [
    "#r \"nuget:Microsoft.Data.Analysis,0.21.0\""
   ]
  },
  {
   "cell_type": "code",
   "execution_count": 42,
   "metadata": {
    "dotnet_interactive": {
     "language": "csharp"
    },
    "polyglot_notebook": {
     "kernelName": "csharp"
    },
    "vscode": {
     "languageId": "polyglot-notebook"
    }
   },
   "outputs": [],
   "source": [
    "using Microsoft.Data.Analysis;\n",
    "\n",
    "string[] names = { \"Oliver\", \"Charlotte\", \"Henry\", \"Amelia\", \"Owen\" };\n",
    "int[] ages = { 23, 19, 42, 64, 35 };\n",
    "double[] heights = { 1.91, 1.62, 1.72, 1.57, 1.85 };\n",
    "\n",
    "DataFrameColumn[] columns = {\n",
    "    new StringDataFrameColumn(\"Name\", names),\n",
    "    new PrimitiveDataFrameColumn<int>(\"Age\", ages),\n",
    "    new PrimitiveDataFrameColumn<double>(\"Height\", heights),\n",
    "};\n",
    "\n",
    "DataFrame df = new(columns);"
   ]
  },
  {
   "cell_type": "code",
   "execution_count": 43,
   "metadata": {
    "dotnet_interactive": {
     "language": "csharp"
    },
    "polyglot_notebook": {
     "kernelName": "csharp"
    },
    "vscode": {
     "languageId": "polyglot-notebook"
    }
   },
   "outputs": [
    {
     "data": {
      "text/html": [
       "<table id=\"table_638579443069475321\"><thead><tr><th><i>index</i></th><th>Name</th><th>Age</th><th>Height</th></tr></thead><tbody><tr><td><i><div class=\"dni-plaintext\"><pre>0</pre></div></i></td><td>Oliver</td><td><div class=\"dni-plaintext\"><pre>23</pre></div></td><td><div class=\"dni-plaintext\"><pre>1.91</pre></div></td></tr><tr><td><i><div class=\"dni-plaintext\"><pre>1</pre></div></i></td><td>Charlotte</td><td><div class=\"dni-plaintext\"><pre>19</pre></div></td><td><div class=\"dni-plaintext\"><pre>1.62</pre></div></td></tr><tr><td><i><div class=\"dni-plaintext\"><pre>2</pre></div></i></td><td>Henry</td><td><div class=\"dni-plaintext\"><pre>42</pre></div></td><td><div class=\"dni-plaintext\"><pre>1.72</pre></div></td></tr><tr><td><i><div class=\"dni-plaintext\"><pre>3</pre></div></i></td><td>Amelia</td><td><div class=\"dni-plaintext\"><pre>64</pre></div></td><td><div class=\"dni-plaintext\"><pre>1.57</pre></div></td></tr><tr><td><i><div class=\"dni-plaintext\"><pre>4</pre></div></i></td><td>Owen</td><td><div class=\"dni-plaintext\"><pre>35</pre></div></td><td><div class=\"dni-plaintext\"><pre>1.85</pre></div></td></tr></tbody></table><style>\r\n",
       ".dni-code-hint {\r\n",
       "    font-style: italic;\r\n",
       "    overflow: hidden;\r\n",
       "    white-space: nowrap;\r\n",
       "}\r\n",
       ".dni-treeview {\r\n",
       "    white-space: nowrap;\r\n",
       "}\r\n",
       ".dni-treeview td {\r\n",
       "    vertical-align: top;\r\n",
       "    text-align: start;\r\n",
       "}\r\n",
       "details.dni-treeview {\r\n",
       "    padding-left: 1em;\r\n",
       "}\r\n",
       "table td {\r\n",
       "    text-align: start;\r\n",
       "}\r\n",
       "table tr { \r\n",
       "    vertical-align: top; \r\n",
       "    margin: 0em 0px;\r\n",
       "}\r\n",
       "table tr td pre \r\n",
       "{ \r\n",
       "    vertical-align: top !important; \r\n",
       "    margin: 0em 0px !important;\r\n",
       "} \r\n",
       "table th {\r\n",
       "    text-align: start;\r\n",
       "}\r\n",
       "</style>"
      ]
     },
     "metadata": {},
     "output_type": "display_data"
    }
   ],
   "source": [
    "df"
   ]
  },
  {
   "cell_type": "code",
   "execution_count": 44,
   "metadata": {
    "dotnet_interactive": {
     "language": "csharp"
    },
    "polyglot_notebook": {
     "kernelName": "csharp"
    },
    "vscode": {
     "languageId": "polyglot-notebook"
    }
   },
   "outputs": [],
   "source": [
    "List<KeyValuePair<string, object>> newRowData = new()\n",
    "{\n",
    "    new KeyValuePair<string, object>(\"Name\", \"Scott\"),\n",
    "    new KeyValuePair<string, object>(\"Age\", 36),\n",
    "    new KeyValuePair<string, object>(\"Height\", 1.65),\n",
    "};\n",
    "\n",
    "df.Append(newRowData, inPlace: true);"
   ]
  },
  {
   "cell_type": "code",
   "execution_count": 45,
   "metadata": {
    "dotnet_interactive": {
     "language": "csharp"
    },
    "polyglot_notebook": {
     "kernelName": "csharp"
    },
    "vscode": {
     "languageId": "polyglot-notebook"
    }
   },
   "outputs": [],
   "source": [
    "int[] weights = {123, 321, 111, 121, 131, 141};\n",
    "PrimitiveDataFrameColumn<int> weightCol = new(\"Weight\", weights);\n",
    "df.Columns.Add(weightCol)"
   ]
  },
  {
   "cell_type": "code",
   "execution_count": 46,
   "metadata": {
    "dotnet_interactive": {
     "language": "csharp"
    },
    "polyglot_notebook": {
     "kernelName": "csharp"
    },
    "vscode": {
     "languageId": "polyglot-notebook"
    }
   },
   "outputs": [
    {
     "data": {
      "text/html": [
       "<table id=\"table_638579443071985788\"><thead><tr><th><i>index</i></th><th>Name</th><th>Age</th><th>Height</th><th>Weight</th></tr></thead><tbody><tr><td><i><div class=\"dni-plaintext\"><pre>0</pre></div></i></td><td>Amelia</td><td><div class=\"dni-plaintext\"><pre>64</pre></div></td><td><div class=\"dni-plaintext\"><pre>1.57</pre></div></td><td><div class=\"dni-plaintext\"><pre>121</pre></div></td></tr><tr><td><i><div class=\"dni-plaintext\"><pre>1</pre></div></i></td><td>Charlotte</td><td><div class=\"dni-plaintext\"><pre>19</pre></div></td><td><div class=\"dni-plaintext\"><pre>1.62</pre></div></td><td><div class=\"dni-plaintext\"><pre>321</pre></div></td></tr><tr><td><i><div class=\"dni-plaintext\"><pre>2</pre></div></i></td><td>Henry</td><td><div class=\"dni-plaintext\"><pre>42</pre></div></td><td><div class=\"dni-plaintext\"><pre>1.72</pre></div></td><td><div class=\"dni-plaintext\"><pre>111</pre></div></td></tr><tr><td><i><div class=\"dni-plaintext\"><pre>3</pre></div></i></td><td>Oliver</td><td><div class=\"dni-plaintext\"><pre>23</pre></div></td><td><div class=\"dni-plaintext\"><pre>1.91</pre></div></td><td><div class=\"dni-plaintext\"><pre>123</pre></div></td></tr><tr><td><i><div class=\"dni-plaintext\"><pre>4</pre></div></i></td><td>Owen</td><td><div class=\"dni-plaintext\"><pre>35</pre></div></td><td><div class=\"dni-plaintext\"><pre>1.85</pre></div></td><td><div class=\"dni-plaintext\"><pre>131</pre></div></td></tr><tr><td><i><div class=\"dni-plaintext\"><pre>5</pre></div></i></td><td>Scott</td><td><div class=\"dni-plaintext\"><pre>36</pre></div></td><td><div class=\"dni-plaintext\"><pre>1.65</pre></div></td><td><div class=\"dni-plaintext\"><pre>141</pre></div></td></tr></tbody></table><style>\r\n",
       ".dni-code-hint {\r\n",
       "    font-style: italic;\r\n",
       "    overflow: hidden;\r\n",
       "    white-space: nowrap;\r\n",
       "}\r\n",
       ".dni-treeview {\r\n",
       "    white-space: nowrap;\r\n",
       "}\r\n",
       ".dni-treeview td {\r\n",
       "    vertical-align: top;\r\n",
       "    text-align: start;\r\n",
       "}\r\n",
       "details.dni-treeview {\r\n",
       "    padding-left: 1em;\r\n",
       "}\r\n",
       "table td {\r\n",
       "    text-align: start;\r\n",
       "}\r\n",
       "table tr { \r\n",
       "    vertical-align: top; \r\n",
       "    margin: 0em 0px;\r\n",
       "}\r\n",
       "table tr td pre \r\n",
       "{ \r\n",
       "    vertical-align: top !important; \r\n",
       "    margin: 0em 0px !important;\r\n",
       "} \r\n",
       "table th {\r\n",
       "    text-align: start;\r\n",
       "}\r\n",
       "</style>"
      ]
     },
     "metadata": {},
     "output_type": "display_data"
    }
   ],
   "source": [
    "df.OrderBy(\"Name\")"
   ]
  },
  {
   "cell_type": "code",
   "execution_count": 47,
   "metadata": {
    "dotnet_interactive": {
     "language": "csharp"
    },
    "polyglot_notebook": {
     "kernelName": "csharp"
    },
    "vscode": {
     "languageId": "polyglot-notebook"
    }
   },
   "outputs": [
    {
     "data": {
      "text/html": [
       "<table id=\"table_638579443072800839\"><thead><tr><th><i>index</i></th><th>Name</th><th>Age</th><th>Height</th><th>Weight</th></tr></thead><tbody><tr><td><i><div class=\"dni-plaintext\"><pre>0</pre></div></i></td><td>Henry</td><td><div class=\"dni-plaintext\"><pre>42</pre></div></td><td><div class=\"dni-plaintext\"><pre>1.72</pre></div></td><td><div class=\"dni-plaintext\"><pre>111</pre></div></td></tr><tr><td><i><div class=\"dni-plaintext\"><pre>1</pre></div></i></td><td>Oliver</td><td><div class=\"dni-plaintext\"><pre>23</pre></div></td><td><div class=\"dni-plaintext\"><pre>1.91</pre></div></td><td><div class=\"dni-plaintext\"><pre>123</pre></div></td></tr><tr><td><i><div class=\"dni-plaintext\"><pre>2</pre></div></i></td><td>Owen</td><td><div class=\"dni-plaintext\"><pre>35</pre></div></td><td><div class=\"dni-plaintext\"><pre>1.85</pre></div></td><td><div class=\"dni-plaintext\"><pre>131</pre></div></td></tr><tr><td><i><div class=\"dni-plaintext\"><pre>3</pre></div></i></td><td>Scott</td><td><div class=\"dni-plaintext\"><pre>36</pre></div></td><td><div class=\"dni-plaintext\"><pre>1.65</pre></div></td><td><div class=\"dni-plaintext\"><pre>141</pre></div></td></tr></tbody></table><style>\r\n",
       ".dni-code-hint {\r\n",
       "    font-style: italic;\r\n",
       "    overflow: hidden;\r\n",
       "    white-space: nowrap;\r\n",
       "}\r\n",
       ".dni-treeview {\r\n",
       "    white-space: nowrap;\r\n",
       "}\r\n",
       ".dni-treeview td {\r\n",
       "    vertical-align: top;\r\n",
       "    text-align: start;\r\n",
       "}\r\n",
       "details.dni-treeview {\r\n",
       "    padding-left: 1em;\r\n",
       "}\r\n",
       "table td {\r\n",
       "    text-align: start;\r\n",
       "}\r\n",
       "table tr { \r\n",
       "    vertical-align: top; \r\n",
       "    margin: 0em 0px;\r\n",
       "}\r\n",
       "table tr td pre \r\n",
       "{ \r\n",
       "    vertical-align: top !important; \r\n",
       "    margin: 0em 0px !important;\r\n",
       "} \r\n",
       "table th {\r\n",
       "    text-align: start;\r\n",
       "}\r\n",
       "</style>"
      ]
     },
     "metadata": {},
     "output_type": "display_data"
    }
   ],
   "source": [
    "df.OrderBy(\"Name\").Filter(df[\"Age\"].ElementwiseGreaterThan(30))"
   ]
  },
  {
   "cell_type": "code",
   "execution_count": 48,
   "metadata": {
    "dotnet_interactive": {
     "language": "csharp"
    },
    "polyglot_notebook": {
     "kernelName": "csharp"
    },
    "vscode": {
     "languageId": "polyglot-notebook"
    }
   },
   "outputs": [
    {
     "data": {
      "text/html": [
       "<table id=\"table_638579443073499292\"><thead><tr><th><i>index</i></th><th>Name</th><th>Age</th><th>Height</th><th>Weight</th></tr></thead><tbody><tr><td><i><div class=\"dni-plaintext\"><pre>0</pre></div></i></td><td>Amelia</td><td><div class=\"dni-plaintext\"><pre>64</pre></div></td><td><div class=\"dni-plaintext\"><pre>1.57</pre></div></td><td><div class=\"dni-plaintext\"><pre>121</pre></div></td></tr><tr><td><i><div class=\"dni-plaintext\"><pre>1</pre></div></i></td><td>Henry</td><td><div class=\"dni-plaintext\"><pre>42</pre></div></td><td><div class=\"dni-plaintext\"><pre>1.72</pre></div></td><td><div class=\"dni-plaintext\"><pre>111</pre></div></td></tr><tr><td><i><div class=\"dni-plaintext\"><pre>2</pre></div></i></td><td>Owen</td><td><div class=\"dni-plaintext\"><pre>35</pre></div></td><td><div class=\"dni-plaintext\"><pre>1.85</pre></div></td><td><div class=\"dni-plaintext\"><pre>131</pre></div></td></tr><tr><td><i><div class=\"dni-plaintext\"><pre>3</pre></div></i></td><td>Scott</td><td><div class=\"dni-plaintext\"><pre>36</pre></div></td><td><div class=\"dni-plaintext\"><pre>1.65</pre></div></td><td><div class=\"dni-plaintext\"><pre>141</pre></div></td></tr></tbody></table><style>\r\n",
       ".dni-code-hint {\r\n",
       "    font-style: italic;\r\n",
       "    overflow: hidden;\r\n",
       "    white-space: nowrap;\r\n",
       "}\r\n",
       ".dni-treeview {\r\n",
       "    white-space: nowrap;\r\n",
       "}\r\n",
       ".dni-treeview td {\r\n",
       "    vertical-align: top;\r\n",
       "    text-align: start;\r\n",
       "}\r\n",
       "details.dni-treeview {\r\n",
       "    padding-left: 1em;\r\n",
       "}\r\n",
       "table td {\r\n",
       "    text-align: start;\r\n",
       "}\r\n",
       "table tr { \r\n",
       "    vertical-align: top; \r\n",
       "    margin: 0em 0px;\r\n",
       "}\r\n",
       "table tr td pre \r\n",
       "{ \r\n",
       "    vertical-align: top !important; \r\n",
       "    margin: 0em 0px !important;\r\n",
       "} \r\n",
       "table th {\r\n",
       "    text-align: start;\r\n",
       "}\r\n",
       "</style>"
      ]
     },
     "metadata": {},
     "output_type": "display_data"
    }
   ],
   "source": [
    "df.Filter(df[\"Age\"].ElementwiseGreaterThan(30)).OrderBy(\"Name\")"
   ]
  },
  {
   "cell_type": "code",
   "execution_count": 49,
   "metadata": {
    "dotnet_interactive": {
     "language": "csharp"
    },
    "polyglot_notebook": {
     "kernelName": "csharp"
    },
    "vscode": {
     "languageId": "polyglot-notebook"
    }
   },
   "outputs": [
    {
     "data": {
      "text/html": [
       "<table id=\"table_638579443074508731\"><thead><tr><th><i>index</i></th><th>Name</th><th>Age</th><th>Height</th><th>Weight</th></tr></thead><tbody><tr><td><i><div class=\"dni-plaintext\"><pre>0</pre></div></i></td><td>Amelia</td><td><div class=\"dni-plaintext\"><pre>64</pre></div></td><td><div class=\"dni-plaintext\"><pre>1.57</pre></div></td><td><div class=\"dni-plaintext\"><pre>121</pre></div></td></tr><tr><td><i><div class=\"dni-plaintext\"><pre>1</pre></div></i></td><td>Henry</td><td><div class=\"dni-plaintext\"><pre>42</pre></div></td><td><div class=\"dni-plaintext\"><pre>1.72</pre></div></td><td><div class=\"dni-plaintext\"><pre>111</pre></div></td></tr><tr><td><i><div class=\"dni-plaintext\"><pre>2</pre></div></i></td><td>Owen</td><td><div class=\"dni-plaintext\"><pre>35</pre></div></td><td><div class=\"dni-plaintext\"><pre>1.85</pre></div></td><td><div class=\"dni-plaintext\"><pre>131</pre></div></td></tr><tr><td><i><div class=\"dni-plaintext\"><pre>3</pre></div></i></td><td>Scott</td><td><div class=\"dni-plaintext\"><pre>36</pre></div></td><td><div class=\"dni-plaintext\"><pre>1.65</pre></div></td><td><div class=\"dni-plaintext\"><pre>141</pre></div></td></tr></tbody></table><style>\r\n",
       ".dni-code-hint {\r\n",
       "    font-style: italic;\r\n",
       "    overflow: hidden;\r\n",
       "    white-space: nowrap;\r\n",
       "}\r\n",
       ".dni-treeview {\r\n",
       "    white-space: nowrap;\r\n",
       "}\r\n",
       ".dni-treeview td {\r\n",
       "    vertical-align: top;\r\n",
       "    text-align: start;\r\n",
       "}\r\n",
       "details.dni-treeview {\r\n",
       "    padding-left: 1em;\r\n",
       "}\r\n",
       "table td {\r\n",
       "    text-align: start;\r\n",
       "}\r\n",
       "table tr { \r\n",
       "    vertical-align: top; \r\n",
       "    margin: 0em 0px;\r\n",
       "}\r\n",
       "table tr td pre \r\n",
       "{ \r\n",
       "    vertical-align: top !important; \r\n",
       "    margin: 0em 0px !important;\r\n",
       "} \r\n",
       "table th {\r\n",
       "    text-align: start;\r\n",
       "}\r\n",
       "</style>"
      ]
     },
     "metadata": {},
     "output_type": "display_data"
    }
   ],
   "source": [
    "var orderedDf = df.OrderBy(\"Name\");\n",
    "var filteredDf = orderedDf.Filter(orderedDf[\"Age\"].ElementwiseGreaterThan(30));\n",
    "filteredDf"
   ]
  },
  {
   "cell_type": "code",
   "execution_count": 50,
   "metadata": {
    "dotnet_interactive": {
     "language": "csharp"
    },
    "polyglot_notebook": {
     "kernelName": "csharp"
    },
    "vscode": {
     "languageId": "polyglot-notebook"
    }
   },
   "outputs": [
    {
     "data": {
      "text/html": [
       "<table id=\"table_638579443075346791\"><thead><tr><th><i>index</i></th><th>Name</th><th>Age</th><th>Height</th><th>Weight</th></tr></thead><tbody><tr><td><i><div class=\"dni-plaintext\"><pre>0</pre></div></i></td><td>Amelia</td><td><div class=\"dni-plaintext\"><pre>64</pre></div></td><td><div class=\"dni-plaintext\"><pre>1.57</pre></div></td><td><div class=\"dni-plaintext\"><pre>121</pre></div></td></tr><tr><td><i><div class=\"dni-plaintext\"><pre>1</pre></div></i></td><td>Henry</td><td><div class=\"dni-plaintext\"><pre>42</pre></div></td><td><div class=\"dni-plaintext\"><pre>1.72</pre></div></td><td><div class=\"dni-plaintext\"><pre>111</pre></div></td></tr><tr><td><i><div class=\"dni-plaintext\"><pre>2</pre></div></i></td><td>Owen</td><td><div class=\"dni-plaintext\"><pre>35</pre></div></td><td><div class=\"dni-plaintext\"><pre>1.85</pre></div></td><td><div class=\"dni-plaintext\"><pre>131</pre></div></td></tr><tr><td><i><div class=\"dni-plaintext\"><pre>3</pre></div></i></td><td>Scott</td><td><div class=\"dni-plaintext\"><pre>36</pre></div></td><td><div class=\"dni-plaintext\"><pre>1.65</pre></div></td><td><div class=\"dni-plaintext\"><pre>141</pre></div></td></tr></tbody></table><style>\r\n",
       ".dni-code-hint {\r\n",
       "    font-style: italic;\r\n",
       "    overflow: hidden;\r\n",
       "    white-space: nowrap;\r\n",
       "}\r\n",
       ".dni-treeview {\r\n",
       "    white-space: nowrap;\r\n",
       "}\r\n",
       ".dni-treeview td {\r\n",
       "    vertical-align: top;\r\n",
       "    text-align: start;\r\n",
       "}\r\n",
       "details.dni-treeview {\r\n",
       "    padding-left: 1em;\r\n",
       "}\r\n",
       "table td {\r\n",
       "    text-align: start;\r\n",
       "}\r\n",
       "table tr { \r\n",
       "    vertical-align: top; \r\n",
       "    margin: 0em 0px;\r\n",
       "}\r\n",
       "table tr td pre \r\n",
       "{ \r\n",
       "    vertical-align: top !important; \r\n",
       "    margin: 0em 0px !important;\r\n",
       "} \r\n",
       "table th {\r\n",
       "    text-align: start;\r\n",
       "}\r\n",
       "</style>"
      ]
     },
     "metadata": {},
     "output_type": "display_data"
    }
   ],
   "source": [
    "df.OrderBy(\"Name\").Filter(df[\"Age\"].ElementwiseGreaterThan(30));\n",
    "\n",
    "df.Filter(df[\"Age\"].ElementwiseGreaterThan(30)).OrderBy(\"Name\");\n",
    "\n",
    "var orderedDf = df.OrderBy(\"Name\");\n",
    "var filteredDf = orderedDf.Filter(orderedDf[\"Age\"].ElementwiseGreaterThan(30));\n",
    "filteredDf"
   ]
  },
  {
   "cell_type": "code",
   "execution_count": 51,
   "metadata": {
    "dotnet_interactive": {
     "language": "csharp"
    },
    "polyglot_notebook": {
     "kernelName": "csharp"
    },
    "vscode": {
     "languageId": "polyglot-notebook"
    }
   },
   "outputs": [
    {
     "data": {
      "text/html": [
       "<table id=\"table_638579443076211256\"><thead><tr><th><i>index</i></th><th>Name</th><th>Age</th><th>Height</th><th>Weight</th><th>IQ</th></tr></thead><tbody><tr><td><i><div class=\"dni-plaintext\"><pre>0</pre></div></i></td><td>Oliver</td><td><div class=\"dni-plaintext\"><pre>23</pre></div></td><td><div class=\"dni-plaintext\"><pre>1.91</pre></div></td><td><div class=\"dni-plaintext\"><pre>123</pre></div></td><td><div class=\"dni-plaintext\"><pre>65.895</pre></div></td></tr><tr><td><i><div class=\"dni-plaintext\"><pre>1</pre></div></i></td><td>Charlotte</td><td><div class=\"dni-plaintext\"><pre>19</pre></div></td><td><div class=\"dni-plaintext\"><pre>1.62</pre></div></td><td><div class=\"dni-plaintext\"><pre>321</pre></div></td><td><div class=\"dni-plaintext\"><pre>46.17</pre></div></td></tr><tr><td><i><div class=\"dni-plaintext\"><pre>2</pre></div></i></td><td>Henry</td><td><div class=\"dni-plaintext\"><pre>42</pre></div></td><td><div class=\"dni-plaintext\"><pre>1.72</pre></div></td><td><div class=\"dni-plaintext\"><pre>111</pre></div></td><td><div class=\"dni-plaintext\"><pre>108.35999999999999</pre></div></td></tr><tr><td><i><div class=\"dni-plaintext\"><pre>3</pre></div></i></td><td>Amelia</td><td><div class=\"dni-plaintext\"><pre>64</pre></div></td><td><div class=\"dni-plaintext\"><pre>1.57</pre></div></td><td><div class=\"dni-plaintext\"><pre>121</pre></div></td><td><div class=\"dni-plaintext\"><pre>150.72</pre></div></td></tr><tr><td><i><div class=\"dni-plaintext\"><pre>4</pre></div></i></td><td>Owen</td><td><div class=\"dni-plaintext\"><pre>35</pre></div></td><td><div class=\"dni-plaintext\"><pre>1.85</pre></div></td><td><div class=\"dni-plaintext\"><pre>131</pre></div></td><td><div class=\"dni-plaintext\"><pre>97.125</pre></div></td></tr><tr><td><i><div class=\"dni-plaintext\"><pre>5</pre></div></i></td><td>Scott</td><td><div class=\"dni-plaintext\"><pre>36</pre></div></td><td><div class=\"dni-plaintext\"><pre>1.65</pre></div></td><td><div class=\"dni-plaintext\"><pre>141</pre></div></td><td><div class=\"dni-plaintext\"><pre>89.1</pre></div></td></tr></tbody></table><style>\r\n",
       ".dni-code-hint {\r\n",
       "    font-style: italic;\r\n",
       "    overflow: hidden;\r\n",
       "    white-space: nowrap;\r\n",
       "}\r\n",
       ".dni-treeview {\r\n",
       "    white-space: nowrap;\r\n",
       "}\r\n",
       ".dni-treeview td {\r\n",
       "    vertical-align: top;\r\n",
       "    text-align: start;\r\n",
       "}\r\n",
       "details.dni-treeview {\r\n",
       "    padding-left: 1em;\r\n",
       "}\r\n",
       "table td {\r\n",
       "    text-align: start;\r\n",
       "}\r\n",
       "table tr { \r\n",
       "    vertical-align: top; \r\n",
       "    margin: 0em 0px;\r\n",
       "}\r\n",
       "table tr td pre \r\n",
       "{ \r\n",
       "    vertical-align: top !important; \r\n",
       "    margin: 0em 0px !important;\r\n",
       "} \r\n",
       "table th {\r\n",
       "    text-align: start;\r\n",
       "}\r\n",
       "</style>"
      ]
     },
     "metadata": {},
     "output_type": "display_data"
    }
   ],
   "source": [
    "DataFrameColumn iqCol = df[\"Age\"] * df[\"Height\"] * 1.5;\n",
    "\n",
    "double[] iqs = Enumerable.Range(0, (int)iqCol.Length)\n",
    "    .Select(x => (double)iqCol[x])\n",
    "    .ToArray();\n",
    "\n",
    "df.Columns.Add(new PrimitiveDataFrameColumn<double>(\"IQ\", iqs));\n",
    "df"
   ]
  },
  {
   "cell_type": "code",
   "execution_count": 52,
   "metadata": {
    "dotnet_interactive": {
     "language": "csharp"
    },
    "polyglot_notebook": {
     "kernelName": "csharp"
    },
    "vscode": {
     "languageId": "polyglot-notebook"
    }
   },
   "outputs": [],
   "source": [
    "private static (double mean, double std) MeanAndStd(double[] values)\n",
    "{\n",
    "  if (values is null)\n",
    "    throw new ArgumentNullException(nameof(values));\n",
    "\n",
    "  if (values.Length == 0)\n",
    "    throw new ArgumentException($\"{nameof(values)} must not be empty\");\n",
    "\n",
    "  double sum = 0;\n",
    "  for (int i = 0; i < values.Length; i++)\n",
    "    sum += values[i];\n",
    "\n",
    "  double mean = sum / values.Length;\n",
    "\n",
    "  double sumVariancesSquared = 0;\n",
    "  for (int i = 0; i < values.Length; i++)\n",
    "  {\n",
    "    double pointVariance = Math.Abs(mean - values[i]);\n",
    "    double pointVarianceSquared = Math.Pow(pointVariance, 2);\n",
    "    sumVariancesSquared += pointVarianceSquared;\n",
    "  }\n",
    "\n",
    "  double meanVarianceSquared = sumVariancesSquared / values.Length;\n",
    "  double std = Math.Sqrt(meanVarianceSquared);\n",
    "\n",
    "  return (mean, std);\n",
    "}"
   ]
  },
  {
   "cell_type": "code",
   "execution_count": 53,
   "metadata": {
    "dotnet_interactive": {
     "language": "csharp"
    },
    "polyglot_notebook": {
     "kernelName": "csharp"
    },
    "vscode": {
     "languageId": "polyglot-notebook"
    }
   },
   "outputs": [
    {
     "name": "stdout",
     "output_type": "stream",
     "text": [
      "Age = 36.5 +/- 14.592 (n=6)\n",
      "Height = 1.72 +/- 0.123 (n=6)\n",
      "Weight = 158 +/- 73.473 (n=6)\n",
      "IQ = 92.895 +/- 32.983 (n=6)\n"
     ]
    }
   ],
   "source": [
    "foreach (DataFrameColumn col in df.Columns.Skip(1))\n",
    "{\n",
    "    // warning: additional care must be taken for datasets which contain null\n",
    "    double[] values = Enumerable.Range(0, (int)col.Length).Select(x => Convert.ToDouble(col[x])).ToArray();\n",
    "    (double mean, double std) = MeanAndStd(values);\n",
    "    Console.WriteLine($\"{col.Name} = {mean} +/- {std:N3} (n={values.Length})\");\n",
    "}"
   ]
  },
  {
   "cell_type": "code",
   "execution_count": 54,
   "metadata": {
    "vscode": {
     "languageId": "polyglot-notebook"
    }
   },
   "outputs": [
    {
     "data": {
      "text/html": [
       "<table id=\"table_638579443079614539\"><thead><tr><th><i>index</i></th><th>Name</th><th>Age</th><th>Height</th><th>Weight</th><th>IQ</th></tr></thead><tbody><tr><td><i><div class=\"dni-plaintext\"><pre>0</pre></div></i></td><td>Oliver</td><td><div class=\"dni-plaintext\"><pre>23</pre></div></td><td><div class=\"dni-plaintext\"><pre>1.91</pre></div></td><td><div class=\"dni-plaintext\"><pre>123</pre></div></td><td><div class=\"dni-plaintext\"><pre>65.895</pre></div></td></tr><tr><td><i><div class=\"dni-plaintext\"><pre>1</pre></div></i></td><td>Charlotte</td><td><div class=\"dni-plaintext\"><pre>19</pre></div></td><td><div class=\"dni-plaintext\"><pre>1.62</pre></div></td><td><div class=\"dni-plaintext\"><pre>321</pre></div></td><td><div class=\"dni-plaintext\"><pre>46.17</pre></div></td></tr><tr><td><i><div class=\"dni-plaintext\"><pre>2</pre></div></i></td><td>Henry</td><td><div class=\"dni-plaintext\"><pre>42</pre></div></td><td><div class=\"dni-plaintext\"><pre>1.72</pre></div></td><td><div class=\"dni-plaintext\"><pre>111</pre></div></td><td><div class=\"dni-plaintext\"><pre>108.35999999999999</pre></div></td></tr><tr><td><i><div class=\"dni-plaintext\"><pre>3</pre></div></i></td><td>Amelia</td><td><div class=\"dni-plaintext\"><pre>64</pre></div></td><td><div class=\"dni-plaintext\"><pre>1.57</pre></div></td><td><div class=\"dni-plaintext\"><pre>121</pre></div></td><td><div class=\"dni-plaintext\"><pre>150.72</pre></div></td></tr><tr><td><i><div class=\"dni-plaintext\"><pre>4</pre></div></i></td><td>Owen</td><td><div class=\"dni-plaintext\"><pre>35</pre></div></td><td><div class=\"dni-plaintext\"><pre>1.85</pre></div></td><td><div class=\"dni-plaintext\"><pre>131</pre></div></td><td><div class=\"dni-plaintext\"><pre>97.125</pre></div></td></tr><tr><td><i><div class=\"dni-plaintext\"><pre>5</pre></div></i></td><td>Scott</td><td><div class=\"dni-plaintext\"><pre>36</pre></div></td><td><div class=\"dni-plaintext\"><pre>1.65</pre></div></td><td><div class=\"dni-plaintext\"><pre>141</pre></div></td><td><div class=\"dni-plaintext\"><pre>89.1</pre></div></td></tr></tbody></table><style>\r\n",
       ".dni-code-hint {\r\n",
       "    font-style: italic;\r\n",
       "    overflow: hidden;\r\n",
       "    white-space: nowrap;\r\n",
       "}\r\n",
       ".dni-treeview {\r\n",
       "    white-space: nowrap;\r\n",
       "}\r\n",
       ".dni-treeview td {\r\n",
       "    vertical-align: top;\r\n",
       "    text-align: start;\r\n",
       "}\r\n",
       "details.dni-treeview {\r\n",
       "    padding-left: 1em;\r\n",
       "}\r\n",
       "table td {\r\n",
       "    text-align: start;\r\n",
       "}\r\n",
       "table tr { \r\n",
       "    vertical-align: top; \r\n",
       "    margin: 0em 0px;\r\n",
       "}\r\n",
       "table tr td pre \r\n",
       "{ \r\n",
       "    vertical-align: top !important; \r\n",
       "    margin: 0em 0px !important;\r\n",
       "} \r\n",
       "table th {\r\n",
       "    text-align: start;\r\n",
       "}\r\n",
       "</style>"
      ]
     },
     "metadata": {},
     "output_type": "display_data"
    }
   ],
   "source": [
    "df"
   ]
  },
  {
   "cell_type": "code",
   "execution_count": 55,
   "metadata": {
    "dotnet_interactive": {
     "language": "csharp"
    },
    "polyglot_notebook": {
     "kernelName": "csharp"
    },
    "vscode": {
     "languageId": "polyglot-notebook"
    }
   },
   "outputs": [
    {
     "data": {
      "text/html": [
       "<div><div></div><div></div><div><strong>Installed Packages</strong><ul><li><span>ScottPlot, 5.0.36</span></li></ul></div></div>"
      ]
     },
     "metadata": {},
     "output_type": "display_data"
    }
   ],
   "source": [
    "#r \"nuget:ScottPlot, 5.0.36\""
   ]
  },
  {
   "cell_type": "code",
   "execution_count": 56,
   "metadata": {
    "dotnet_interactive": {
     "language": "csharp"
    },
    "polyglot_notebook": {
     "kernelName": "csharp"
    },
    "vscode": {
     "languageId": "polyglot-notebook"
    }
   },
   "outputs": [],
   "source": [
    "using Microsoft.DotNet.Interactive.Formatting;\n",
    "Formatter.Register(typeof(ScottPlot.Plot), (p, w) => \n",
    "    w.Write(((ScottPlot.Plot)p).GetImageHtml(400, 300)), HtmlFormatter.MimeType);"
   ]
  },
  {
   "cell_type": "code",
   "execution_count": 57,
   "metadata": {
    "vscode": {
     "languageId": "polyglot-notebook"
    }
   },
   "outputs": [
    {
     "data": {
      "text/html": [
       "<table id=\"table_638579443081533025\"><thead><tr><th><i>index</i></th><th>Name</th><th>Age</th><th>Height</th><th>Weight</th><th>IQ</th></tr></thead><tbody><tr><td><i><div class=\"dni-plaintext\"><pre>0</pre></div></i></td><td>Oliver</td><td><div class=\"dni-plaintext\"><pre>23</pre></div></td><td><div class=\"dni-plaintext\"><pre>1.91</pre></div></td><td><div class=\"dni-plaintext\"><pre>123</pre></div></td><td><div class=\"dni-plaintext\"><pre>65.895</pre></div></td></tr><tr><td><i><div class=\"dni-plaintext\"><pre>1</pre></div></i></td><td>Charlotte</td><td><div class=\"dni-plaintext\"><pre>19</pre></div></td><td><div class=\"dni-plaintext\"><pre>1.62</pre></div></td><td><div class=\"dni-plaintext\"><pre>321</pre></div></td><td><div class=\"dni-plaintext\"><pre>46.17</pre></div></td></tr><tr><td><i><div class=\"dni-plaintext\"><pre>2</pre></div></i></td><td>Henry</td><td><div class=\"dni-plaintext\"><pre>42</pre></div></td><td><div class=\"dni-plaintext\"><pre>1.72</pre></div></td><td><div class=\"dni-plaintext\"><pre>111</pre></div></td><td><div class=\"dni-plaintext\"><pre>108.35999999999999</pre></div></td></tr><tr><td><i><div class=\"dni-plaintext\"><pre>3</pre></div></i></td><td>Amelia</td><td><div class=\"dni-plaintext\"><pre>64</pre></div></td><td><div class=\"dni-plaintext\"><pre>1.57</pre></div></td><td><div class=\"dni-plaintext\"><pre>121</pre></div></td><td><div class=\"dni-plaintext\"><pre>150.72</pre></div></td></tr><tr><td><i><div class=\"dni-plaintext\"><pre>4</pre></div></i></td><td>Owen</td><td><div class=\"dni-plaintext\"><pre>35</pre></div></td><td><div class=\"dni-plaintext\"><pre>1.85</pre></div></td><td><div class=\"dni-plaintext\"><pre>131</pre></div></td><td><div class=\"dni-plaintext\"><pre>97.125</pre></div></td></tr><tr><td><i><div class=\"dni-plaintext\"><pre>5</pre></div></i></td><td>Scott</td><td><div class=\"dni-plaintext\"><pre>36</pre></div></td><td><div class=\"dni-plaintext\"><pre>1.65</pre></div></td><td><div class=\"dni-plaintext\"><pre>141</pre></div></td><td><div class=\"dni-plaintext\"><pre>89.1</pre></div></td></tr></tbody></table><style>\r\n",
       ".dni-code-hint {\r\n",
       "    font-style: italic;\r\n",
       "    overflow: hidden;\r\n",
       "    white-space: nowrap;\r\n",
       "}\r\n",
       ".dni-treeview {\r\n",
       "    white-space: nowrap;\r\n",
       "}\r\n",
       ".dni-treeview td {\r\n",
       "    vertical-align: top;\r\n",
       "    text-align: start;\r\n",
       "}\r\n",
       "details.dni-treeview {\r\n",
       "    padding-left: 1em;\r\n",
       "}\r\n",
       "table td {\r\n",
       "    text-align: start;\r\n",
       "}\r\n",
       "table tr { \r\n",
       "    vertical-align: top; \r\n",
       "    margin: 0em 0px;\r\n",
       "}\r\n",
       "table tr td pre \r\n",
       "{ \r\n",
       "    vertical-align: top !important; \r\n",
       "    margin: 0em 0px !important;\r\n",
       "} \r\n",
       "table th {\r\n",
       "    text-align: start;\r\n",
       "}\r\n",
       "</style>"
      ]
     },
     "metadata": {},
     "output_type": "display_data"
    }
   ],
   "source": [
    "df"
   ]
  },
  {
   "cell_type": "code",
   "execution_count": 58,
   "metadata": {
    "vscode": {
     "languageId": "polyglot-notebook"
    }
   },
   "outputs": [],
   "source": [
    "using ScottPlot;\n",
    "using Microsoft.Data.Analysis;\n",
    "using System;\n",
    "using System.Linq;"
   ]
  },
  {
   "cell_type": "code",
   "execution_count": 59,
   "metadata": {
    "vscode": {
     "languageId": "polyglot-notebook"
    }
   },
   "outputs": [
    {
     "data": {
      "text/html": [
       "<details open=\"open\" class=\"dni-treeview\"><summary><span class=\"dni-code-hint\"><code>[ 23, 19, 42, 64, 35, 36 ]</code></span></summary><div><table><thead><tr></tr></thead><tbody><tr><td>NullCount</td><td><div class=\"dni-plaintext\"><pre>0</pre></div></td></tr><tr><td>Length</td><td><div class=\"dni-plaintext\"><pre>6</pre></div></td></tr><tr><td>Name</td><td><div class=\"dni-plaintext\"><pre>Age</pre></div></td></tr><tr><td>DataType</td><td><span><a href=\"https://docs.microsoft.com/dotnet/api/system.int32?view=net-7.0\">System.Int32</a></span></td></tr><tr><td><i>(values)</i></td><td><div class=\"dni-plaintext\"><pre>[ 23, 19, 42, 64, 35, 36 ]</pre></div></td></tr></tbody></table></div></details><style>\r\n",
       ".dni-code-hint {\r\n",
       "    font-style: italic;\r\n",
       "    overflow: hidden;\r\n",
       "    white-space: nowrap;\r\n",
       "}\r\n",
       ".dni-treeview {\r\n",
       "    white-space: nowrap;\r\n",
       "}\r\n",
       ".dni-treeview td {\r\n",
       "    vertical-align: top;\r\n",
       "    text-align: start;\r\n",
       "}\r\n",
       "details.dni-treeview {\r\n",
       "    padding-left: 1em;\r\n",
       "}\r\n",
       "table td {\r\n",
       "    text-align: start;\r\n",
       "}\r\n",
       "table tr { \r\n",
       "    vertical-align: top; \r\n",
       "    margin: 0em 0px;\r\n",
       "}\r\n",
       "table tr td pre \r\n",
       "{ \r\n",
       "    vertical-align: top !important; \r\n",
       "    margin: 0em 0px !important;\r\n",
       "} \r\n",
       "table th {\r\n",
       "    text-align: start;\r\n",
       "}\r\n",
       "</style>"
      ]
     },
     "metadata": {},
     "output_type": "display_data"
    }
   ],
   "source": [
    "df[\"Age\"]"
   ]
  },
  {
   "cell_type": "code",
   "execution_count": 60,
   "metadata": {
    "vscode": {
     "languageId": "polyglot-notebook"
    }
   },
   "outputs": [
    {
     "data": {
      "text/html": [
       "<details open=\"open\" class=\"dni-treeview\"><summary><span class=\"dni-code-hint\"><code>[ 1.91, 1.62, 1.72, 1.57, 1.85, 1.65 ]</code></span></summary><div><table><thead><tr></tr></thead><tbody><tr><td>NullCount</td><td><div class=\"dni-plaintext\"><pre>0</pre></div></td></tr><tr><td>Length</td><td><div class=\"dni-plaintext\"><pre>6</pre></div></td></tr><tr><td>Name</td><td><div class=\"dni-plaintext\"><pre>Height</pre></div></td></tr><tr><td>DataType</td><td><span><a href=\"https://docs.microsoft.com/dotnet/api/system.double?view=net-7.0\">System.Double</a></span></td></tr><tr><td><i>(values)</i></td><td><div class=\"dni-plaintext\"><pre>[ 1.91, 1.62, 1.72, 1.57, 1.85, 1.65 ]</pre></div></td></tr></tbody></table></div></details><style>\r\n",
       ".dni-code-hint {\r\n",
       "    font-style: italic;\r\n",
       "    overflow: hidden;\r\n",
       "    white-space: nowrap;\r\n",
       "}\r\n",
       ".dni-treeview {\r\n",
       "    white-space: nowrap;\r\n",
       "}\r\n",
       ".dni-treeview td {\r\n",
       "    vertical-align: top;\r\n",
       "    text-align: start;\r\n",
       "}\r\n",
       "details.dni-treeview {\r\n",
       "    padding-left: 1em;\r\n",
       "}\r\n",
       "table td {\r\n",
       "    text-align: start;\r\n",
       "}\r\n",
       "table tr { \r\n",
       "    vertical-align: top; \r\n",
       "    margin: 0em 0px;\r\n",
       "}\r\n",
       "table tr td pre \r\n",
       "{ \r\n",
       "    vertical-align: top !important; \r\n",
       "    margin: 0em 0px !important;\r\n",
       "} \r\n",
       "table th {\r\n",
       "    text-align: start;\r\n",
       "}\r\n",
       "</style>"
      ]
     },
     "metadata": {},
     "output_type": "display_data"
    }
   ],
   "source": [
    "df[\"Height\"]"
   ]
  },
  {
   "cell_type": "code",
   "execution_count": 61,
   "metadata": {
    "vscode": {
     "languageId": "polyglot-notebook"
    }
   },
   "outputs": [],
   "source": [
    "// df = df.OrderBy(\"\");\n",
    "int[] xs = df[\"Age\"].Cast<int>().ToArray();\n",
    "double[] ys = df[\"Height\"].Cast<double>().ToArray();\n",
    "\n",
    "ScottPlot.Plot myPlot = new();\n",
    "myPlot.Add.Scatter(xs, ys);"
   ]
  },
  {
   "cell_type": "code",
   "execution_count": 62,
   "metadata": {
    "vscode": {
     "languageId": "polyglot-notebook"
    }
   },
   "outputs": [
    {
     "data": {
      "text/html": [
       "<img src=\"data:image/png;base64,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\"></img>"
      ]
     },
     "metadata": {},
     "output_type": "display_data"
    }
   ],
   "source": [
    "myPlot"
   ]
  },
  {
   "cell_type": "code",
   "execution_count": 63,
   "metadata": {
    "vscode": {
     "languageId": "polyglot-notebook"
    }
   },
   "outputs": [],
   "source": [
    "DataFrame n_df = df.OrderBy(\"Age\");\n",
    "int[] xs = n_df[\"Age\"].Cast<int>().ToArray();\n",
    "double[] ys = n_df[\"Height\"].Cast<double>().ToArray();\n",
    "\n",
    "ScottPlot.Plot myPlot = new();\n",
    "myPlot.Add.Scatter(xs, ys);\n"
   ]
  },
  {
   "cell_type": "code",
   "execution_count": 64,
   "metadata": {
    "vscode": {
     "languageId": "polyglot-notebook"
    }
   },
   "outputs": [
    {
     "data": {
      "text/html": [
       "<img src=\"data:image/png;base64,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\"></img>"
      ]
     },
     "metadata": {},
     "output_type": "display_data"
    }
   ],
   "source": [
    "myPlot"
   ]
  }
 ],
 "metadata": {
  "kernelspec": {
   "display_name": ".NET (C#)",
   "language": "C#",
   "name": ".net-csharp"
  },
  "language_info": {
   "name": "python"
  },
  "polyglot_notebook": {
   "kernelInfo": {
    "defaultKernelName": "csharp",
    "items": [
     {
      "aliases": [],
      "name": "csharp"
     }
    ]
   }
  }
 },
 "nbformat": 4,
 "nbformat_minor": 2
}
