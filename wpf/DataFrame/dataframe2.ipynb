{
 "cells": [
  {
   "cell_type": "code",
   "execution_count": 41,
   "metadata": {
    "dotnet_interactive": {
     "language": "csharp"
    },
    "polyglot_notebook": {
     "kernelName": "csharp"
    },
    "vscode": {
     "languageId": "polyglot-notebook"
    }
   },
   "outputs": [
    {
     "data": {
      "text/html": [
       "<div><div></div><div></div><div><strong>Installed Packages</strong><ul><li><span>Microsoft.Data.Analysis, 0.21.0</span></li></ul></div></div>"
      ]
     },
     "metadata": {},
     "output_type": "display_data"
    }
   ],
   "source": [
    "#r \"nuget:Microsoft.Data.Analysis,0.21.0\""
   ]
  },
  {
   "cell_type": "code",
   "execution_count": 42,
   "metadata": {
    "dotnet_interactive": {
     "language": "csharp"
    },
    "polyglot_notebook": {
     "kernelName": "csharp"
    },
    "vscode": {
     "languageId": "polyglot-notebook"
    }
   },
   "outputs": [],
   "source": [
    "using Microsoft.Data.Analysis;\n",
    "\n",
    "string[] names = { \"Oliver\", \"Charlotte\", \"Henry\", \"Amelia\", \"Owen\" };\n",
    "int[] ages = { 23, 19, 42, 64, 35 };\n",
    "double[] heights = { 1.91, 1.62, 1.72, 1.57, 1.85 };\n",
    "\n",
    "DataFrameColumn[] columns = {\n",
    "    new StringDataFrameColumn(\"Name\", names),\n",
    "    new PrimitiveDataFrameColumn<int>(\"Age\", ages),\n",
    "    new PrimitiveDataFrameColumn<double>(\"Height\", heights),\n",
    "};\n",
    "\n",
    "DataFrame df = new(columns);"
   ]
  },
  {
   "cell_type": "code",
   "execution_count": 43,
   "metadata": {
    "dotnet_interactive": {
     "language": "csharp"
    },
    "polyglot_notebook": {
     "kernelName": "csharp"
    },
    "vscode": {
     "languageId": "polyglot-notebook"
    }
   },
   "outputs": [
    {
     "data": {
      "text/html": [
       "<table id=\"table_638579443069475321\"><thead><tr><th><i>index</i></th><th>Name</th><th>Age</th><th>Height</th></tr></thead><tbody><tr><td><i><div class=\"dni-plaintext\"><pre>0</pre></div></i></td><td>Oliver</td><td><div class=\"dni-plaintext\"><pre>23</pre></div></td><td><div class=\"dni-plaintext\"><pre>1.91</pre></div></td></tr><tr><td><i><div class=\"dni-plaintext\"><pre>1</pre></div></i></td><td>Charlotte</td><td><div class=\"dni-plaintext\"><pre>19</pre></div></td><td><div class=\"dni-plaintext\"><pre>1.62</pre></div></td></tr><tr><td><i><div class=\"dni-plaintext\"><pre>2</pre></div></i></td><td>Henry</td><td><div class=\"dni-plaintext\"><pre>42</pre></div></td><td><div class=\"dni-plaintext\"><pre>1.72</pre></div></td></tr><tr><td><i><div class=\"dni-plaintext\"><pre>3</pre></div></i></td><td>Amelia</td><td><div class=\"dni-plaintext\"><pre>64</pre></div></td><td><div class=\"dni-plaintext\"><pre>1.57</pre></div></td></tr><tr><td><i><div class=\"dni-plaintext\"><pre>4</pre></div></i></td><td>Owen</td><td><div class=\"dni-plaintext\"><pre>35</pre></div></td><td><div class=\"dni-plaintext\"><pre>1.85</pre></div></td></tr></tbody></table><style>\r\n",
       ".dni-code-hint {\r\n",
       "    font-style: italic;\r\n",
       "    overflow: hidden;\r\n",
       "    white-space: nowrap;\r\n",
       "}\r\n",
       ".dni-treeview {\r\n",
       "    white-space: nowrap;\r\n",
       "}\r\n",
       ".dni-treeview td {\r\n",
       "    vertical-align: top;\r\n",
       "    text-align: start;\r\n",
       "}\r\n",
       "details.dni-treeview {\r\n",
       "    padding-left: 1em;\r\n",
       "}\r\n",
       "table td {\r\n",
       "    text-align: start;\r\n",
       "}\r\n",
       "table tr { \r\n",
       "    vertical-align: top; \r\n",
       "    margin: 0em 0px;\r\n",
       "}\r\n",
       "table tr td pre \r\n",
       "{ \r\n",
       "    vertical-align: top !important; \r\n",
       "    margin: 0em 0px !important;\r\n",
       "} \r\n",
       "table th {\r\n",
       "    text-align: start;\r\n",
       "}\r\n",
       "</style>"
      ]
     },
     "metadata": {},
     "output_type": "display_data"
    }
   ],
   "source": [
    "df"
   ]
  },
  {
   "cell_type": "code",
   "execution_count": 44,
   "metadata": {
    "dotnet_interactive": {
     "language": "csharp"
    },
    "polyglot_notebook": {
     "kernelName": "csharp"
    },
    "vscode": {
     "languageId": "polyglot-notebook"
    }
   },
   "outputs": [],
   "source": [
    "List<KeyValuePair<string, object>> newRowData = new()\n",
    "{\n",
    "    new KeyValuePair<string, object>(\"Name\", \"Scott\"),\n",
    "    new KeyValuePair<string, object>(\"Age\", 36),\n",
    "    new KeyValuePair<string, object>(\"Height\", 1.65),\n",
    "};\n",
    "\n",
    "df.Append(newRowData, inPlace: true);"
   ]
  },
  {
   "cell_type": "code",
   "execution_count": 45,
   "metadata": {
    "dotnet_interactive": {
     "language": "csharp"
    },
    "polyglot_notebook": {
     "kernelName": "csharp"
    },
    "vscode": {
     "languageId": "polyglot-notebook"
    }
   },
   "outputs": [],
   "source": [
    "int[] weights = {123, 321, 111, 121, 131, 141};\n",
    "PrimitiveDataFrameColumn<int> weightCol = new(\"Weight\", weights);\n",
    "df.Columns.Add(weightCol)"
   ]
  },
  {
   "cell_type": "code",
   "execution_count": 46,
   "metadata": {
    "dotnet_interactive": {
     "language": "csharp"
    },
    "polyglot_notebook": {
     "kernelName": "csharp"
    },
    "vscode": {
     "languageId": "polyglot-notebook"
    }
   },
   "outputs": [
    {
     "data": {
      "text/html": [
       "<table id=\"table_638579443071985788\"><thead><tr><th><i>index</i></th><th>Name</th><th>Age</th><th>Height</th><th>Weight</th></tr></thead><tbody><tr><td><i><div class=\"dni-plaintext\"><pre>0</pre></div></i></td><td>Amelia</td><td><div class=\"dni-plaintext\"><pre>64</pre></div></td><td><div class=\"dni-plaintext\"><pre>1.57</pre></div></td><td><div class=\"dni-plaintext\"><pre>121</pre></div></td></tr><tr><td><i><div class=\"dni-plaintext\"><pre>1</pre></div></i></td><td>Charlotte</td><td><div class=\"dni-plaintext\"><pre>19</pre></div></td><td><div class=\"dni-plaintext\"><pre>1.62</pre></div></td><td><div class=\"dni-plaintext\"><pre>321</pre></div></td></tr><tr><td><i><div class=\"dni-plaintext\"><pre>2</pre></div></i></td><td>Henry</td><td><div class=\"dni-plaintext\"><pre>42</pre></div></td><td><div class=\"dni-plaintext\"><pre>1.72</pre></div></td><td><div class=\"dni-plaintext\"><pre>111</pre></div></td></tr><tr><td><i><div class=\"dni-plaintext\"><pre>3</pre></div></i></td><td>Oliver</td><td><div class=\"dni-plaintext\"><pre>23</pre></div></td><td><div class=\"dni-plaintext\"><pre>1.91</pre></div></td><td><div class=\"dni-plaintext\"><pre>123</pre></div></td></tr><tr><td><i><div class=\"dni-plaintext\"><pre>4</pre></div></i></td><td>Owen</td><td><div class=\"dni-plaintext\"><pre>35</pre></div></td><td><div class=\"dni-plaintext\"><pre>1.85</pre></div></td><td><div class=\"dni-plaintext\"><pre>131</pre></div></td></tr><tr><td><i><div class=\"dni-plaintext\"><pre>5</pre></div></i></td><td>Scott</td><td><div class=\"dni-plaintext\"><pre>36</pre></div></td><td><div class=\"dni-plaintext\"><pre>1.65</pre></div></td><td><div class=\"dni-plaintext\"><pre>141</pre></div></td></tr></tbody></table><style>\r\n",
       ".dni-code-hint {\r\n",
       "    font-style: italic;\r\n",
       "    overflow: hidden;\r\n",
       "    white-space: nowrap;\r\n",
       "}\r\n",
       ".dni-treeview {\r\n",
       "    white-space: nowrap;\r\n",
       "}\r\n",
       ".dni-treeview td {\r\n",
       "    vertical-align: top;\r\n",
       "    text-align: start;\r\n",
       "}\r\n",
       "details.dni-treeview {\r\n",
       "    padding-left: 1em;\r\n",
       "}\r\n",
       "table td {\r\n",
       "    text-align: start;\r\n",
       "}\r\n",
       "table tr { \r\n",
       "    vertical-align: top; \r\n",
       "    margin: 0em 0px;\r\n",
       "}\r\n",
       "table tr td pre \r\n",
       "{ \r\n",
       "    vertical-align: top !important; \r\n",
       "    margin: 0em 0px !important;\r\n",
       "} \r\n",
       "table th {\r\n",
       "    text-align: start;\r\n",
       "}\r\n",
       "</style>"
      ]
     },
     "metadata": {},
     "output_type": "display_data"
    }
   ],
   "source": [
    "df.OrderBy(\"Name\")"
   ]
  },
  {
   "cell_type": "code",
   "execution_count": 47,
   "metadata": {
    "dotnet_interactive": {
     "language": "csharp"
    },
    "polyglot_notebook": {
     "kernelName": "csharp"
    },
    "vscode": {
     "languageId": "polyglot-notebook"
    }
   },
   "outputs": [
    {
     "data": {
      "text/html": [
       "<table id=\"table_638579443072800839\"><thead><tr><th><i>index</i></th><th>Name</th><th>Age</th><th>Height</th><th>Weight</th></tr></thead><tbody><tr><td><i><div class=\"dni-plaintext\"><pre>0</pre></div></i></td><td>Henry</td><td><div class=\"dni-plaintext\"><pre>42</pre></div></td><td><div class=\"dni-plaintext\"><pre>1.72</pre></div></td><td><div class=\"dni-plaintext\"><pre>111</pre></div></td></tr><tr><td><i><div class=\"dni-plaintext\"><pre>1</pre></div></i></td><td>Oliver</td><td><div class=\"dni-plaintext\"><pre>23</pre></div></td><td><div class=\"dni-plaintext\"><pre>1.91</pre></div></td><td><div class=\"dni-plaintext\"><pre>123</pre></div></td></tr><tr><td><i><div class=\"dni-plaintext\"><pre>2</pre></div></i></td><td>Owen</td><td><div class=\"dni-plaintext\"><pre>35</pre></div></td><td><div class=\"dni-plaintext\"><pre>1.85</pre></div></td><td><div class=\"dni-plaintext\"><pre>131</pre></div></td></tr><tr><td><i><div class=\"dni-plaintext\"><pre>3</pre></div></i></td><td>Scott</td><td><div class=\"dni-plaintext\"><pre>36</pre></div></td><td><div class=\"dni-plaintext\"><pre>1.65</pre></div></td><td><div class=\"dni-plaintext\"><pre>141</pre></div></td></tr></tbody></table><style>\r\n",
       ".dni-code-hint {\r\n",
       "    font-style: italic;\r\n",
       "    overflow: hidden;\r\n",
       "    white-space: nowrap;\r\n",
       "}\r\n",
       ".dni-treeview {\r\n",
       "    white-space: nowrap;\r\n",
       "}\r\n",
       ".dni-treeview td {\r\n",
       "    vertical-align: top;\r\n",
       "    text-align: start;\r\n",
       "}\r\n",
       "details.dni-treeview {\r\n",
       "    padding-left: 1em;\r\n",
       "}\r\n",
       "table td {\r\n",
       "    text-align: start;\r\n",
       "}\r\n",
       "table tr { \r\n",
       "    vertical-align: top; \r\n",
       "    margin: 0em 0px;\r\n",
       "}\r\n",
       "table tr td pre \r\n",
       "{ \r\n",
       "    vertical-align: top !important; \r\n",
       "    margin: 0em 0px !important;\r\n",
       "} \r\n",
       "table th {\r\n",
       "    text-align: start;\r\n",
       "}\r\n",
       "</style>"
      ]
     },
     "metadata": {},
     "output_type": "display_data"
    }
   ],
   "source": [
    "df.OrderBy(\"Name\").Filter(df[\"Age\"].ElementwiseGreaterThan(30))"
   ]
  },
  {
   "cell_type": "code",
   "execution_count": 48,
   "metadata": {
    "dotnet_interactive": {
     "language": "csharp"
    },
    "polyglot_notebook": {
     "kernelName": "csharp"
    },
    "vscode": {
     "languageId": "polyglot-notebook"
    }
   },
   "outputs": [
    {
     "data": {
      "text/html": [
       "<table id=\"table_638579443073499292\"><thead><tr><th><i>index</i></th><th>Name</th><th>Age</th><th>Height</th><th>Weight</th></tr></thead><tbody><tr><td><i><div class=\"dni-plaintext\"><pre>0</pre></div></i></td><td>Amelia</td><td><div class=\"dni-plaintext\"><pre>64</pre></div></td><td><div class=\"dni-plaintext\"><pre>1.57</pre></div></td><td><div class=\"dni-plaintext\"><pre>121</pre></div></td></tr><tr><td><i><div class=\"dni-plaintext\"><pre>1</pre></div></i></td><td>Henry</td><td><div class=\"dni-plaintext\"><pre>42</pre></div></td><td><div class=\"dni-plaintext\"><pre>1.72</pre></div></td><td><div class=\"dni-plaintext\"><pre>111</pre></div></td></tr><tr><td><i><div class=\"dni-plaintext\"><pre>2</pre></div></i></td><td>Owen</td><td><div class=\"dni-plaintext\"><pre>35</pre></div></td><td><div class=\"dni-plaintext\"><pre>1.85</pre></div></td><td><div class=\"dni-plaintext\"><pre>131</pre></div></td></tr><tr><td><i><div class=\"dni-plaintext\"><pre>3</pre></div></i></td><td>Scott</td><td><div class=\"dni-plaintext\"><pre>36</pre></div></td><td><div class=\"dni-plaintext\"><pre>1.65</pre></div></td><td><div class=\"dni-plaintext\"><pre>141</pre></div></td></tr></tbody></table><style>\r\n",
       ".dni-code-hint {\r\n",
       "    font-style: italic;\r\n",
       "    overflow: hidden;\r\n",
       "    white-space: nowrap;\r\n",
       "}\r\n",
       ".dni-treeview {\r\n",
       "    white-space: nowrap;\r\n",
       "}\r\n",
       ".dni-treeview td {\r\n",
       "    vertical-align: top;\r\n",
       "    text-align: start;\r\n",
       "}\r\n",
       "details.dni-treeview {\r\n",
       "    padding-left: 1em;\r\n",
       "}\r\n",
       "table td {\r\n",
       "    text-align: start;\r\n",
       "}\r\n",
       "table tr { \r\n",
       "    vertical-align: top; \r\n",
       "    margin: 0em 0px;\r\n",
       "}\r\n",
       "table tr td pre \r\n",
       "{ \r\n",
       "    vertical-align: top !important; \r\n",
       "    margin: 0em 0px !important;\r\n",
       "} \r\n",
       "table th {\r\n",
       "    text-align: start;\r\n",
       "}\r\n",
       "</style>"
      ]
     },
     "metadata": {},
     "output_type": "display_data"
    }
   ],
   "source": [
    "df.Filter(df[\"Age\"].ElementwiseGreaterThan(30)).OrderBy(\"Name\")"
   ]
  },
  {
   "cell_type": "code",
   "execution_count": 49,
   "metadata": {
    "dotnet_interactive": {
     "language": "csharp"
    },
    "polyglot_notebook": {
     "kernelName": "csharp"
    },
    "vscode": {
     "languageId": "polyglot-notebook"
    }
   },
   "outputs": [
    {
     "data": {
      "text/html": [
       "<table id=\"table_638579443074508731\"><thead><tr><th><i>index</i></th><th>Name</th><th>Age</th><th>Height</th><th>Weight</th></tr></thead><tbody><tr><td><i><div class=\"dni-plaintext\"><pre>0</pre></div></i></td><td>Amelia</td><td><div class=\"dni-plaintext\"><pre>64</pre></div></td><td><div class=\"dni-plaintext\"><pre>1.57</pre></div></td><td><div class=\"dni-plaintext\"><pre>121</pre></div></td></tr><tr><td><i><div class=\"dni-plaintext\"><pre>1</pre></div></i></td><td>Henry</td><td><div class=\"dni-plaintext\"><pre>42</pre></div></td><td><div class=\"dni-plaintext\"><pre>1.72</pre></div></td><td><div class=\"dni-plaintext\"><pre>111</pre></div></td></tr><tr><td><i><div class=\"dni-plaintext\"><pre>2</pre></div></i></td><td>Owen</td><td><div class=\"dni-plaintext\"><pre>35</pre></div></td><td><div class=\"dni-plaintext\"><pre>1.85</pre></div></td><td><div class=\"dni-plaintext\"><pre>131</pre></div></td></tr><tr><td><i><div class=\"dni-plaintext\"><pre>3</pre></div></i></td><td>Scott</td><td><div class=\"dni-plaintext\"><pre>36</pre></div></td><td><div class=\"dni-plaintext\"><pre>1.65</pre></div></td><td><div class=\"dni-plaintext\"><pre>141</pre></div></td></tr></tbody></table><style>\r\n",
       ".dni-code-hint {\r\n",
       "    font-style: italic;\r\n",
       "    overflow: hidden;\r\n",
       "    white-space: nowrap;\r\n",
       "}\r\n",
       ".dni-treeview {\r\n",
       "    white-space: nowrap;\r\n",
       "}\r\n",
       ".dni-treeview td {\r\n",
       "    vertical-align: top;\r\n",
       "    text-align: start;\r\n",
       "}\r\n",
       "details.dni-treeview {\r\n",
       "    padding-left: 1em;\r\n",
       "}\r\n",
       "table td {\r\n",
       "    text-align: start;\r\n",
       "}\r\n",
       "table tr { \r\n",
       "    vertical-align: top; \r\n",
       "    margin: 0em 0px;\r\n",
       "}\r\n",
       "table tr td pre \r\n",
       "{ \r\n",
       "    vertical-align: top !important; \r\n",
       "    margin: 0em 0px !important;\r\n",
       "} \r\n",
       "table th {\r\n",
       "    text-align: start;\r\n",
       "}\r\n",
       "</style>"
      ]
     },
     "metadata": {},
     "output_type": "display_data"
    }
   ],
   "source": [
    "var orderedDf = df.OrderBy(\"Name\");\n",
    "var filteredDf = orderedDf.Filter(orderedDf[\"Age\"].ElementwiseGreaterThan(30));\n",
    "filteredDf"
   ]
  },
  {
   "cell_type": "code",
   "execution_count": 50,
   "metadata": {
    "dotnet_interactive": {
     "language": "csharp"
    },
    "polyglot_notebook": {
     "kernelName": "csharp"
    },
    "vscode": {
     "languageId": "polyglot-notebook"
    }
   },
   "outputs": [
    {
     "data": {
      "text/html": [
       "<table id=\"table_638579443075346791\"><thead><tr><th><i>index</i></th><th>Name</th><th>Age</th><th>Height</th><th>Weight</th></tr></thead><tbody><tr><td><i><div class=\"dni-plaintext\"><pre>0</pre></div></i></td><td>Amelia</td><td><div class=\"dni-plaintext\"><pre>64</pre></div></td><td><div class=\"dni-plaintext\"><pre>1.57</pre></div></td><td><div class=\"dni-plaintext\"><pre>121</pre></div></td></tr><tr><td><i><div class=\"dni-plaintext\"><pre>1</pre></div></i></td><td>Henry</td><td><div class=\"dni-plaintext\"><pre>42</pre></div></td><td><div class=\"dni-plaintext\"><pre>1.72</pre></div></td><td><div class=\"dni-plaintext\"><pre>111</pre></div></td></tr><tr><td><i><div class=\"dni-plaintext\"><pre>2</pre></div></i></td><td>Owen</td><td><div class=\"dni-plaintext\"><pre>35</pre></div></td><td><div class=\"dni-plaintext\"><pre>1.85</pre></div></td><td><div class=\"dni-plaintext\"><pre>131</pre></div></td></tr><tr><td><i><div class=\"dni-plaintext\"><pre>3</pre></div></i></td><td>Scott</td><td><div class=\"dni-plaintext\"><pre>36</pre></div></td><td><div class=\"dni-plaintext\"><pre>1.65</pre></div></td><td><div class=\"dni-plaintext\"><pre>141</pre></div></td></tr></tbody></table><style>\r\n",
       ".dni-code-hint {\r\n",
       "    font-style: italic;\r\n",
       "    overflow: hidden;\r\n",
       "    white-space: nowrap;\r\n",
       "}\r\n",
       ".dni-treeview {\r\n",
       "    white-space: nowrap;\r\n",
       "}\r\n",
       ".dni-treeview td {\r\n",
       "    vertical-align: top;\r\n",
       "    text-align: start;\r\n",
       "}\r\n",
       "details.dni-treeview {\r\n",
       "    padding-left: 1em;\r\n",
       "}\r\n",
       "table td {\r\n",
       "    text-align: start;\r\n",
       "}\r\n",
       "table tr { \r\n",
       "    vertical-align: top; \r\n",
       "    margin: 0em 0px;\r\n",
       "}\r\n",
       "table tr td pre \r\n",
       "{ \r\n",
       "    vertical-align: top !important; \r\n",
       "    margin: 0em 0px !important;\r\n",
       "} \r\n",
       "table th {\r\n",
       "    text-align: start;\r\n",
       "}\r\n",
       "</style>"
      ]
     },
     "metadata": {},
     "output_type": "display_data"
    }
   ],
   "source": [
    "df.OrderBy(\"Name\").Filter(df[\"Age\"].ElementwiseGreaterThan(30));\n",
    "\n",
    "df.Filter(df[\"Age\"].ElementwiseGreaterThan(30)).OrderBy(\"Name\");\n",
    "\n",
    "var orderedDf = df.OrderBy(\"Name\");\n",
    "var filteredDf = orderedDf.Filter(orderedDf[\"Age\"].ElementwiseGreaterThan(30));\n",
    "filteredDf"
   ]
  },
  {
   "cell_type": "code",
   "execution_count": 51,
   "metadata": {
    "dotnet_interactive": {
     "language": "csharp"
    },
    "polyglot_notebook": {
     "kernelName": "csharp"
    },
    "vscode": {
     "languageId": "polyglot-notebook"
    }
   },
   "outputs": [
    {
     "data": {
      "text/html": [
       "<table id=\"table_638579443076211256\"><thead><tr><th><i>index</i></th><th>Name</th><th>Age</th><th>Height</th><th>Weight</th><th>IQ</th></tr></thead><tbody><tr><td><i><div class=\"dni-plaintext\"><pre>0</pre></div></i></td><td>Oliver</td><td><div class=\"dni-plaintext\"><pre>23</pre></div></td><td><div class=\"dni-plaintext\"><pre>1.91</pre></div></td><td><div class=\"dni-plaintext\"><pre>123</pre></div></td><td><div class=\"dni-plaintext\"><pre>65.895</pre></div></td></tr><tr><td><i><div class=\"dni-plaintext\"><pre>1</pre></div></i></td><td>Charlotte</td><td><div class=\"dni-plaintext\"><pre>19</pre></div></td><td><div class=\"dni-plaintext\"><pre>1.62</pre></div></td><td><div class=\"dni-plaintext\"><pre>321</pre></div></td><td><div class=\"dni-plaintext\"><pre>46.17</pre></div></td></tr><tr><td><i><div class=\"dni-plaintext\"><pre>2</pre></div></i></td><td>Henry</td><td><div class=\"dni-plaintext\"><pre>42</pre></div></td><td><div class=\"dni-plaintext\"><pre>1.72</pre></div></td><td><div class=\"dni-plaintext\"><pre>111</pre></div></td><td><div class=\"dni-plaintext\"><pre>108.35999999999999</pre></div></td></tr><tr><td><i><div class=\"dni-plaintext\"><pre>3</pre></div></i></td><td>Amelia</td><td><div class=\"dni-plaintext\"><pre>64</pre></div></td><td><div class=\"dni-plaintext\"><pre>1.57</pre></div></td><td><div class=\"dni-plaintext\"><pre>121</pre></div></td><td><div class=\"dni-plaintext\"><pre>150.72</pre></div></td></tr><tr><td><i><div class=\"dni-plaintext\"><pre>4</pre></div></i></td><td>Owen</td><td><div class=\"dni-plaintext\"><pre>35</pre></div></td><td><div class=\"dni-plaintext\"><pre>1.85</pre></div></td><td><div class=\"dni-plaintext\"><pre>131</pre></div></td><td><div class=\"dni-plaintext\"><pre>97.125</pre></div></td></tr><tr><td><i><div class=\"dni-plaintext\"><pre>5</pre></div></i></td><td>Scott</td><td><div class=\"dni-plaintext\"><pre>36</pre></div></td><td><div class=\"dni-plaintext\"><pre>1.65</pre></div></td><td><div class=\"dni-plaintext\"><pre>141</pre></div></td><td><div class=\"dni-plaintext\"><pre>89.1</pre></div></td></tr></tbody></table><style>\r\n",
       ".dni-code-hint {\r\n",
       "    font-style: italic;\r\n",
       "    overflow: hidden;\r\n",
       "    white-space: nowrap;\r\n",
       "}\r\n",
       ".dni-treeview {\r\n",
       "    white-space: nowrap;\r\n",
       "}\r\n",
       ".dni-treeview td {\r\n",
       "    vertical-align: top;\r\n",
       "    text-align: start;\r\n",
       "}\r\n",
       "details.dni-treeview {\r\n",
       "    padding-left: 1em;\r\n",
       "}\r\n",
       "table td {\r\n",
       "    text-align: start;\r\n",
       "}\r\n",
       "table tr { \r\n",
       "    vertical-align: top; \r\n",
       "    margin: 0em 0px;\r\n",
       "}\r\n",
       "table tr td pre \r\n",
       "{ \r\n",
       "    vertical-align: top !important; \r\n",
       "    margin: 0em 0px !important;\r\n",
       "} \r\n",
       "table th {\r\n",
       "    text-align: start;\r\n",
       "}\r\n",
       "</style>"
      ]
     },
     "metadata": {},
     "output_type": "display_data"
    }
   ],
   "source": [
    "DataFrameColumn iqCol = df[\"Age\"] * df[\"Height\"] * 1.5;\n",
    "\n",
    "double[] iqs = Enumerable.Range(0, (int)iqCol.Length)\n",
    "    .Select(x => (double)iqCol[x])\n",
    "    .ToArray();\n",
    "\n",
    "df.Columns.Add(new PrimitiveDataFrameColumn<double>(\"IQ\", iqs));\n",
    "df"
   ]
  },
  {
   "cell_type": "code",
   "execution_count": 52,
   "metadata": {
    "dotnet_interactive": {
     "language": "csharp"
    },
    "polyglot_notebook": {
     "kernelName": "csharp"
    },
    "vscode": {
     "languageId": "polyglot-notebook"
    }
   },
   "outputs": [],
   "source": [
    "private static (double mean, double std) MeanAndStd(double[] values)\n",
    "{\n",
    "  if (values is null)\n",
    "    throw new ArgumentNullException(nameof(values));\n",
    "\n",
    "  if (values.Length == 0)\n",
    "    throw new ArgumentException($\"{nameof(values)} must not be empty\");\n",
    "\n",
    "  double sum = 0;\n",
    "  for (int i = 0; i < values.Length; i++)\n",
    "    sum += values[i];\n",
    "\n",
    "  double mean = sum / values.Length;\n",
    "\n",
    "  double sumVariancesSquared = 0;\n",
    "  for (int i = 0; i < values.Length; i++)\n",
    "  {\n",
    "    double pointVariance = Math.Abs(mean - values[i]);\n",
    "    double pointVarianceSquared = Math.Pow(pointVariance, 2);\n",
    "    sumVariancesSquared += pointVarianceSquared;\n",
    "  }\n",
    "\n",
    "  double meanVarianceSquared = sumVariancesSquared / values.Length;\n",
    "  double std = Math.Sqrt(meanVarianceSquared);\n",
    "\n",
    "  return (mean, std);\n",
    "}"
   ]
  },
  {
   "cell_type": "code",
   "execution_count": 53,
   "metadata": {
    "dotnet_interactive": {
     "language": "csharp"
    },
    "polyglot_notebook": {
     "kernelName": "csharp"
    },
    "vscode": {
     "languageId": "polyglot-notebook"
    }
   },
   "outputs": [
    {
     "name": "stdout",
     "output_type": "stream",
     "text": [
      "Age = 36.5 +/- 14.592 (n=6)\n",
      "Height = 1.72 +/- 0.123 (n=6)\n",
      "Weight = 158 +/- 73.473 (n=6)\n",
      "IQ = 92.895 +/- 32.983 (n=6)\n"
     ]
    }
   ],
   "source": [
    "foreach (DataFrameColumn col in df.Columns.Skip(1))\n",
    "{\n",
    "    // warning: additional care must be taken for datasets which contain null\n",
    "    double[] values = Enumerable.Range(0, (int)col.Length).Select(x => Convert.ToDouble(col[x])).ToArray();\n",
    "    (double mean, double std) = MeanAndStd(values);\n",
    "    Console.WriteLine($\"{col.Name} = {mean} +/- {std:N3} (n={values.Length})\");\n",
    "}"
   ]
  },
  {
   "cell_type": "code",
   "execution_count": 54,
   "metadata": {
    "dotnet_interactive": {
     "language": "csharp"
    },
    "polyglot_notebook": {
     "kernelName": "csharp"
    },
    "vscode": {
     "languageId": "polyglot-notebook"
    }
   },
   "outputs": [
    {
     "data": {
      "text/html": [
       "<table id=\"table_638579443079614539\"><thead><tr><th><i>index</i></th><th>Name</th><th>Age</th><th>Height</th><th>Weight</th><th>IQ</th></tr></thead><tbody><tr><td><i><div class=\"dni-plaintext\"><pre>0</pre></div></i></td><td>Oliver</td><td><div class=\"dni-plaintext\"><pre>23</pre></div></td><td><div class=\"dni-plaintext\"><pre>1.91</pre></div></td><td><div class=\"dni-plaintext\"><pre>123</pre></div></td><td><div class=\"dni-plaintext\"><pre>65.895</pre></div></td></tr><tr><td><i><div class=\"dni-plaintext\"><pre>1</pre></div></i></td><td>Charlotte</td><td><div class=\"dni-plaintext\"><pre>19</pre></div></td><td><div class=\"dni-plaintext\"><pre>1.62</pre></div></td><td><div class=\"dni-plaintext\"><pre>321</pre></div></td><td><div class=\"dni-plaintext\"><pre>46.17</pre></div></td></tr><tr><td><i><div class=\"dni-plaintext\"><pre>2</pre></div></i></td><td>Henry</td><td><div class=\"dni-plaintext\"><pre>42</pre></div></td><td><div class=\"dni-plaintext\"><pre>1.72</pre></div></td><td><div class=\"dni-plaintext\"><pre>111</pre></div></td><td><div class=\"dni-plaintext\"><pre>108.35999999999999</pre></div></td></tr><tr><td><i><div class=\"dni-plaintext\"><pre>3</pre></div></i></td><td>Amelia</td><td><div class=\"dni-plaintext\"><pre>64</pre></div></td><td><div class=\"dni-plaintext\"><pre>1.57</pre></div></td><td><div class=\"dni-plaintext\"><pre>121</pre></div></td><td><div class=\"dni-plaintext\"><pre>150.72</pre></div></td></tr><tr><td><i><div class=\"dni-plaintext\"><pre>4</pre></div></i></td><td>Owen</td><td><div class=\"dni-plaintext\"><pre>35</pre></div></td><td><div class=\"dni-plaintext\"><pre>1.85</pre></div></td><td><div class=\"dni-plaintext\"><pre>131</pre></div></td><td><div class=\"dni-plaintext\"><pre>97.125</pre></div></td></tr><tr><td><i><div class=\"dni-plaintext\"><pre>5</pre></div></i></td><td>Scott</td><td><div class=\"dni-plaintext\"><pre>36</pre></div></td><td><div class=\"dni-plaintext\"><pre>1.65</pre></div></td><td><div class=\"dni-plaintext\"><pre>141</pre></div></td><td><div class=\"dni-plaintext\"><pre>89.1</pre></div></td></tr></tbody></table><style>\r\n",
       ".dni-code-hint {\r\n",
       "    font-style: italic;\r\n",
       "    overflow: hidden;\r\n",
       "    white-space: nowrap;\r\n",
       "}\r\n",
       ".dni-treeview {\r\n",
       "    white-space: nowrap;\r\n",
       "}\r\n",
       ".dni-treeview td {\r\n",
       "    vertical-align: top;\r\n",
       "    text-align: start;\r\n",
       "}\r\n",
       "details.dni-treeview {\r\n",
       "    padding-left: 1em;\r\n",
       "}\r\n",
       "table td {\r\n",
       "    text-align: start;\r\n",
       "}\r\n",
       "table tr { \r\n",
       "    vertical-align: top; \r\n",
       "    margin: 0em 0px;\r\n",
       "}\r\n",
       "table tr td pre \r\n",
       "{ \r\n",
       "    vertical-align: top !important; \r\n",
       "    margin: 0em 0px !important;\r\n",
       "} \r\n",
       "table th {\r\n",
       "    text-align: start;\r\n",
       "}\r\n",
       "</style>"
      ]
     },
     "metadata": {},
     "output_type": "display_data"
    }
   ],
   "source": [
    "df"
   ]
  },
  {
   "cell_type": "code",
   "execution_count": 55,
   "metadata": {
    "dotnet_interactive": {
     "language": "csharp"
    },
    "polyglot_notebook": {
     "kernelName": "csharp"
    },
    "vscode": {
     "languageId": "polyglot-notebook"
    }
   },
   "outputs": [
    {
     "data": {
      "text/html": [
       "<div><div></div><div></div><div><strong>Installed Packages</strong><ul><li><span>ScottPlot, 5.0.36</span></li></ul></div></div>"
      ]
     },
     "metadata": {},
     "output_type": "display_data"
    }
   ],
   "source": [
    "#r \"nuget:ScottPlot, 5.0.36\""
   ]
  },
  {
   "cell_type": "code",
   "execution_count": 56,
   "metadata": {
    "dotnet_interactive": {
     "language": "csharp"
    },
    "polyglot_notebook": {
     "kernelName": "csharp"
    },
    "vscode": {
     "languageId": "polyglot-notebook"
    }
   },
   "outputs": [],
   "source": [
    "using Microsoft.DotNet.Interactive.Formatting;\n",
    "Formatter.Register(typeof(ScottPlot.Plot), (p, w) => \n",
    "    w.Write(((ScottPlot.Plot)p).GetImageHtml(400, 300)), HtmlFormatter.MimeType);"
   ]
  },
  {
   "cell_type": "code",
   "execution_count": 57,
   "metadata": {
    "dotnet_interactive": {
     "language": "csharp"
    },
    "polyglot_notebook": {
     "kernelName": "csharp"
    },
    "vscode": {
     "languageId": "polyglot-notebook"
    }
   },
   "outputs": [
    {
     "data": {
      "text/html": [
       "<table id=\"table_638579443081533025\"><thead><tr><th><i>index</i></th><th>Name</th><th>Age</th><th>Height</th><th>Weight</th><th>IQ</th></tr></thead><tbody><tr><td><i><div class=\"dni-plaintext\"><pre>0</pre></div></i></td><td>Oliver</td><td><div class=\"dni-plaintext\"><pre>23</pre></div></td><td><div class=\"dni-plaintext\"><pre>1.91</pre></div></td><td><div class=\"dni-plaintext\"><pre>123</pre></div></td><td><div class=\"dni-plaintext\"><pre>65.895</pre></div></td></tr><tr><td><i><div class=\"dni-plaintext\"><pre>1</pre></div></i></td><td>Charlotte</td><td><div class=\"dni-plaintext\"><pre>19</pre></div></td><td><div class=\"dni-plaintext\"><pre>1.62</pre></div></td><td><div class=\"dni-plaintext\"><pre>321</pre></div></td><td><div class=\"dni-plaintext\"><pre>46.17</pre></div></td></tr><tr><td><i><div class=\"dni-plaintext\"><pre>2</pre></div></i></td><td>Henry</td><td><div class=\"dni-plaintext\"><pre>42</pre></div></td><td><div class=\"dni-plaintext\"><pre>1.72</pre></div></td><td><div class=\"dni-plaintext\"><pre>111</pre></div></td><td><div class=\"dni-plaintext\"><pre>108.35999999999999</pre></div></td></tr><tr><td><i><div class=\"dni-plaintext\"><pre>3</pre></div></i></td><td>Amelia</td><td><div class=\"dni-plaintext\"><pre>64</pre></div></td><td><div class=\"dni-plaintext\"><pre>1.57</pre></div></td><td><div class=\"dni-plaintext\"><pre>121</pre></div></td><td><div class=\"dni-plaintext\"><pre>150.72</pre></div></td></tr><tr><td><i><div class=\"dni-plaintext\"><pre>4</pre></div></i></td><td>Owen</td><td><div class=\"dni-plaintext\"><pre>35</pre></div></td><td><div class=\"dni-plaintext\"><pre>1.85</pre></div></td><td><div class=\"dni-plaintext\"><pre>131</pre></div></td><td><div class=\"dni-plaintext\"><pre>97.125</pre></div></td></tr><tr><td><i><div class=\"dni-plaintext\"><pre>5</pre></div></i></td><td>Scott</td><td><div class=\"dni-plaintext\"><pre>36</pre></div></td><td><div class=\"dni-plaintext\"><pre>1.65</pre></div></td><td><div class=\"dni-plaintext\"><pre>141</pre></div></td><td><div class=\"dni-plaintext\"><pre>89.1</pre></div></td></tr></tbody></table><style>\r\n",
       ".dni-code-hint {\r\n",
       "    font-style: italic;\r\n",
       "    overflow: hidden;\r\n",
       "    white-space: nowrap;\r\n",
       "}\r\n",
       ".dni-treeview {\r\n",
       "    white-space: nowrap;\r\n",
       "}\r\n",
       ".dni-treeview td {\r\n",
       "    vertical-align: top;\r\n",
       "    text-align: start;\r\n",
       "}\r\n",
       "details.dni-treeview {\r\n",
       "    padding-left: 1em;\r\n",
       "}\r\n",
       "table td {\r\n",
       "    text-align: start;\r\n",
       "}\r\n",
       "table tr { \r\n",
       "    vertical-align: top; \r\n",
       "    margin: 0em 0px;\r\n",
       "}\r\n",
       "table tr td pre \r\n",
       "{ \r\n",
       "    vertical-align: top !important; \r\n",
       "    margin: 0em 0px !important;\r\n",
       "} \r\n",
       "table th {\r\n",
       "    text-align: start;\r\n",
       "}\r\n",
       "</style>"
      ]
     },
     "metadata": {},
     "output_type": "display_data"
    }
   ],
   "source": [
    "df"
   ]
  },
  {
   "cell_type": "code",
   "execution_count": 58,
   "metadata": {
    "dotnet_interactive": {
     "language": "csharp"
    },
    "polyglot_notebook": {
     "kernelName": "csharp"
    },
    "vscode": {
     "languageId": "polyglot-notebook"
    }
   },
   "outputs": [],
   "source": [
    "using ScottPlot;\n",
    "using Microsoft.Data.Analysis;\n",
    "using System;\n",
    "using System.Linq;"
   ]
  },
  {
   "cell_type": "code",
   "execution_count": 59,
   "metadata": {
    "dotnet_interactive": {
     "language": "csharp"
    },
    "polyglot_notebook": {
     "kernelName": "csharp"
    },
    "vscode": {
     "languageId": "polyglot-notebook"
    }
   },
   "outputs": [
    {
     "data": {
      "text/html": [
       "<details open=\"open\" class=\"dni-treeview\"><summary><span class=\"dni-code-hint\"><code>[ 23, 19, 42, 64, 35, 36 ]</code></span></summary><div><table><thead><tr></tr></thead><tbody><tr><td>NullCount</td><td><div class=\"dni-plaintext\"><pre>0</pre></div></td></tr><tr><td>Length</td><td><div class=\"dni-plaintext\"><pre>6</pre></div></td></tr><tr><td>Name</td><td><div class=\"dni-plaintext\"><pre>Age</pre></div></td></tr><tr><td>DataType</td><td><span><a href=\"https://docs.microsoft.com/dotnet/api/system.int32?view=net-7.0\">System.Int32</a></span></td></tr><tr><td><i>(values)</i></td><td><div class=\"dni-plaintext\"><pre>[ 23, 19, 42, 64, 35, 36 ]</pre></div></td></tr></tbody></table></div></details><style>\r\n",
       ".dni-code-hint {\r\n",
       "    font-style: italic;\r\n",
       "    overflow: hidden;\r\n",
       "    white-space: nowrap;\r\n",
       "}\r\n",
       ".dni-treeview {\r\n",
       "    white-space: nowrap;\r\n",
       "}\r\n",
       ".dni-treeview td {\r\n",
       "    vertical-align: top;\r\n",
       "    text-align: start;\r\n",
       "}\r\n",
       "details.dni-treeview {\r\n",
       "    padding-left: 1em;\r\n",
       "}\r\n",
       "table td {\r\n",
       "    text-align: start;\r\n",
       "}\r\n",
       "table tr { \r\n",
       "    vertical-align: top; \r\n",
       "    margin: 0em 0px;\r\n",
       "}\r\n",
       "table tr td pre \r\n",
       "{ \r\n",
       "    vertical-align: top !important; \r\n",
       "    margin: 0em 0px !important;\r\n",
       "} \r\n",
       "table th {\r\n",
       "    text-align: start;\r\n",
       "}\r\n",
       "</style>"
      ]
     },
     "metadata": {},
     "output_type": "display_data"
    }
   ],
   "source": [
    "df[\"Age\"]"
   ]
  },
  {
   "cell_type": "code",
   "execution_count": 60,
   "metadata": {
    "dotnet_interactive": {
     "language": "csharp"
    },
    "polyglot_notebook": {
     "kernelName": "csharp"
    },
    "vscode": {
     "languageId": "polyglot-notebook"
    }
   },
   "outputs": [
    {
     "data": {
      "text/html": [
       "<details open=\"open\" class=\"dni-treeview\"><summary><span class=\"dni-code-hint\"><code>[ 1.91, 1.62, 1.72, 1.57, 1.85, 1.65 ]</code></span></summary><div><table><thead><tr></tr></thead><tbody><tr><td>NullCount</td><td><div class=\"dni-plaintext\"><pre>0</pre></div></td></tr><tr><td>Length</td><td><div class=\"dni-plaintext\"><pre>6</pre></div></td></tr><tr><td>Name</td><td><div class=\"dni-plaintext\"><pre>Height</pre></div></td></tr><tr><td>DataType</td><td><span><a href=\"https://docs.microsoft.com/dotnet/api/system.double?view=net-7.0\">System.Double</a></span></td></tr><tr><td><i>(values)</i></td><td><div class=\"dni-plaintext\"><pre>[ 1.91, 1.62, 1.72, 1.57, 1.85, 1.65 ]</pre></div></td></tr></tbody></table></div></details><style>\r\n",
       ".dni-code-hint {\r\n",
       "    font-style: italic;\r\n",
       "    overflow: hidden;\r\n",
       "    white-space: nowrap;\r\n",
       "}\r\n",
       ".dni-treeview {\r\n",
       "    white-space: nowrap;\r\n",
       "}\r\n",
       ".dni-treeview td {\r\n",
       "    vertical-align: top;\r\n",
       "    text-align: start;\r\n",
       "}\r\n",
       "details.dni-treeview {\r\n",
       "    padding-left: 1em;\r\n",
       "}\r\n",
       "table td {\r\n",
       "    text-align: start;\r\n",
       "}\r\n",
       "table tr { \r\n",
       "    vertical-align: top; \r\n",
       "    margin: 0em 0px;\r\n",
       "}\r\n",
       "table tr td pre \r\n",
       "{ \r\n",
       "    vertical-align: top !important; \r\n",
       "    margin: 0em 0px !important;\r\n",
       "} \r\n",
       "table th {\r\n",
       "    text-align: start;\r\n",
       "}\r\n",
       "</style>"
      ]
     },
     "metadata": {},
     "output_type": "display_data"
    }
   ],
   "source": [
    "df[\"Height\"]"
   ]
  },
  {
   "cell_type": "code",
   "execution_count": 61,
   "metadata": {
    "dotnet_interactive": {
     "language": "csharp"
    },
    "polyglot_notebook": {
     "kernelName": "csharp"
    },
    "vscode": {
     "languageId": "polyglot-notebook"
    }
   },
   "outputs": [],
   "source": [
    "// df = df.OrderBy(\"\");\n",
    "int[] xs = df[\"Age\"].Cast<int>().ToArray();\n",
    "double[] ys = df[\"Height\"].Cast<double>().ToArray();\n",
    "\n",
    "ScottPlot.Plot myPlot = new();\n",
    "myPlot.Add.Scatter(xs, ys);"
   ]
  },
  {
   "cell_type": "code",
   "execution_count": 62,
   "metadata": {
    "dotnet_interactive": {
     "language": "csharp"
    },
    "polyglot_notebook": {
     "kernelName": "csharp"
    },
    "vscode": {
     "languageId": "polyglot-notebook"
    }
   },
   "outputs": [
    {
     "data": {
      "text/html": [
       "<img src=\"data:image/png;base64,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\"></img>"
      ]
     },
     "metadata": {},
     "output_type": "display_data"
    }
   ],
   "source": [
    "myPlot"
   ]
  },
  {
   "cell_type": "code",
   "execution_count": 75,
   "metadata": {
    "dotnet_interactive": {
     "language": "csharp"
    },
    "polyglot_notebook": {
     "kernelName": "csharp"
    },
    "vscode": {
     "languageId": "polyglot-notebook"
    }
   },
   "outputs": [
    {
     "data": {
      "text/html": [
       "<table id=\"table_638579447761150686\"><thead><tr><th><i>index</i></th><th>Info</th><th>Name</th><th>Age</th><th>Height</th><th>Weight</th><th>IQ</th></tr></thead><tbody><tr><td><i><div class=\"dni-plaintext\"><pre>0</pre></div></i></td><td>DataType</td><td>System.String</td><td>System.Int32</td><td>System.Double</td><td>System.Int32</td><td>System.Double</td></tr><tr><td><i><div class=\"dni-plaintext\"><pre>1</pre></div></i></td><td>Length (excluding null values)</td><td>6</td><td>6</td><td>6</td><td>6</td><td>6</td></tr></tbody></table><style>\r\n",
       ".dni-code-hint {\r\n",
       "    font-style: italic;\r\n",
       "    overflow: hidden;\r\n",
       "    white-space: nowrap;\r\n",
       "}\r\n",
       ".dni-treeview {\r\n",
       "    white-space: nowrap;\r\n",
       "}\r\n",
       ".dni-treeview td {\r\n",
       "    vertical-align: top;\r\n",
       "    text-align: start;\r\n",
       "}\r\n",
       "details.dni-treeview {\r\n",
       "    padding-left: 1em;\r\n",
       "}\r\n",
       "table td {\r\n",
       "    text-align: start;\r\n",
       "}\r\n",
       "table tr { \r\n",
       "    vertical-align: top; \r\n",
       "    margin: 0em 0px;\r\n",
       "}\r\n",
       "table tr td pre \r\n",
       "{ \r\n",
       "    vertical-align: top !important; \r\n",
       "    margin: 0em 0px !important;\r\n",
       "} \r\n",
       "table th {\r\n",
       "    text-align: start;\r\n",
       "}\r\n",
       "</style>"
      ]
     },
     "metadata": {},
     "output_type": "display_data"
    }
   ],
   "source": [
    "df.Info()"
   ]
  },
  {
   "cell_type": "code",
   "execution_count": 81,
   "metadata": {
    "dotnet_interactive": {
     "language": "csharp"
    },
    "polyglot_notebook": {
     "kernelName": "csharp"
    },
    "vscode": {
     "languageId": "polyglot-notebook"
    }
   },
   "outputs": [
    {
     "ename": "Error",
     "evalue": "System.InvalidCastException: Unable to cast object of type 'System.Int32' to type 'System.Double'.\r\n   at System.Linq.Enumerable.CastIterator[TResult](IEnumerable source)+MoveNext()\r\n   at System.Collections.Generic.LargeArrayBuilder`1.AddRange(IEnumerable`1 items)\r\n   at System.Collections.Generic.EnumerableHelpers.ToArray[T](IEnumerable`1 source)\r\n   at Submission#79.<<Initialize>>d__0.MoveNext()\r\n--- End of stack trace from previous location ---\r\n   at Microsoft.CodeAnalysis.Scripting.ScriptExecutionState.RunSubmissionsAsync[TResult](ImmutableArray`1 precedingExecutors, Func`2 currentExecutor, StrongBox`1 exceptionHolderOpt, Func`2 catchExceptionOpt, CancellationToken cancellationToken)",
     "output_type": "error",
     "traceback": [
      "System.InvalidCastException: Unable to cast object of type 'System.Int32' to type 'System.Double'.\r\n",
      "   at System.Linq.Enumerable.CastIterator[TResult](IEnumerable source)+MoveNext()\r\n",
      "   at System.Collections.Generic.LargeArrayBuilder`1.AddRange(IEnumerable`1 items)\r\n",
      "   at System.Collections.Generic.EnumerableHelpers.ToArray[T](IEnumerable`1 source)\r\n",
      "   at Submission#79.<<Initialize>>d__0.MoveNext()\r\n",
      "--- End of stack trace from previous location ---\r\n",
      "   at Microsoft.CodeAnalysis.Scripting.ScriptExecutionState.RunSubmissionsAsync[TResult](ImmutableArray`1 precedingExecutors, Func`2 currentExecutor, StrongBox`1 exceptionHolderOpt, Func`2 catchExceptionOpt, CancellationToken cancellationToken)"
     ]
    }
   ],
   "source": [
    "var n_df = df.OrderBy(\"Age\");\n",
    "double[] xs = n_df[\"Age\"].Cast<double>().ToArray();\n",
    "double[] ys = n_df[\"Height\"].Cast<double>().ToArray();\n",
    "\n",
    "ScottPlot.Plot myPlot = new();\n",
    "myPlot.Add.Scatter(xs, ys);\n"
   ]
  },
  {
   "cell_type": "code",
   "execution_count": 68,
   "metadata": {
    "dotnet_interactive": {
     "language": "csharp"
    },
    "polyglot_notebook": {
     "kernelName": "csharp"
    },
    "vscode": {
     "languageId": "polyglot-notebook"
    }
   },
   "outputs": [
    {
     "data": {
      "text/html": [
       "<img src=\"data:image/png;base64,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\"></img>"
      ]
     },
     "metadata": {},
     "output_type": "display_data"
    }
   ],
   "source": [
    "myPlot"
   ]
  }
 ],
 "metadata": {
  "kernelspec": {
   "display_name": ".NET (C#)",
   "language": "C#",
   "name": ".net-csharp"
  },
  "language_info": {
   "name": "python"
  },
  "polyglot_notebook": {
   "kernelInfo": {
    "defaultKernelName": "csharp",
    "items": [
     {
      "aliases": [],
      "name": "csharp"
     }
    ]
   }
  }
 },
 "nbformat": 4,
 "nbformat_minor": 2
}
